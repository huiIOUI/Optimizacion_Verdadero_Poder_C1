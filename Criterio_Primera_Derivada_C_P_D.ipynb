{
 "cells": [
  {
   "cell_type": "markdown",
   "id": "eab848be",
   "metadata": {},
   "source": [
    "<h1 style=\"color:#0AA079\"> Bienvenidos a este poderoso curso de optimización =)</h1> \n",
    "\n",
    "\n",
    "<center> <h2 style=\"color:#0AA079\"> Bienvenidos</h3> </center> \n",
    "\n",
    "![PICTURE](PIC_1.png)\n",
    "\n",
    "<center> <h3 style=\"color:#0AA079\"> Solo se requiere actitud y ganas de aprender</h3> </center> \n"
   ]
  },
  {
   "cell_type": "code",
   "execution_count": 1,
   "id": "81c47aeb",
   "metadata": {},
   "outputs": [],
   "source": [
    "import sympy as sym\n",
    "from IPython.display import display #Nos permite visualizar de una forma simbólica\n",
    "import numpy as np\n",
    "import matplotlib.pyplot as plt"
   ]
  },
  {
   "cell_type": "code",
   "execution_count": 2,
   "id": "01095587",
   "metadata": {},
   "outputs": [],
   "source": [
    "plt.style.use('_mpl-gallery') # Añade estilo(cuadricula) a las gráficas 2D"
   ]
  },
  {
   "cell_type": "markdown",
   "id": "12e09548",
   "metadata": {},
   "source": [
    "<h2 style=\"color:#3498DB\"> Primera funciòn</h2>  \n",
    "$$F(x) = (x-1.5)^2+0.2 $$"
   ]
  },
  {
   "cell_type": "code",
   "execution_count": 3,
   "id": "938aae63",
   "metadata": {},
   "outputs": [
    {
     "data": {
      "text/latex": [
       "$\\displaystyle 2.25 \\left(0.666666666666667 x - 1\\right)^{2} + 0.2$"
      ],
      "text/plain": [
       "2.25*(0.666666666666667*x - 1)**2 + 0.2"
      ]
     },
     "metadata": {},
     "output_type": "display_data"
    }
   ],
   "source": [
    "x= sym.symbols('x',real=True) # .symbols(V.I) declaración variables independientes V.I\n",
    "expr_1=  (x-1.5)**2+0.2 # representación simbólicamente\n",
    "display(expr_1) # visualización simbólica"
   ]
  },
  {
   "cell_type": "markdown",
   "id": "5fcac6a2",
   "metadata": {},
   "source": [
    "<h2 style=\"color:#40C220\"> Primera Derivada</h2>  \n"
   ]
  },
  {
   "cell_type": "code",
   "execution_count": 4,
   "id": "8127a3c2",
   "metadata": {},
   "outputs": [
    {
     "data": {
      "text/latex": [
       "$\\displaystyle 2.0 x - 3.0$"
      ],
      "text/plain": [
       "2.0*x - 3.0"
      ]
     },
     "metadata": {},
     "output_type": "display_data"
    }
   ],
   "source": [
    "dev_1=sym.diff(expr_1,x) # .diff(expresión simbólica, variable) método para derivar\n",
    "display(dev_1)"
   ]
  },
  {
   "cell_type": "markdown",
   "id": "f788f53b",
   "metadata": {},
   "source": [
    "<h2 style=\"color:#F10F1C\"> Puntos crìticos</h2>  \n",
    "<h3>Un punto critico es donde la derivada es igual a acero o no existe (debido a una indeterminación).</h3>  "
   ]
  },
  {
   "cell_type": "code",
   "execution_count": 5,
   "id": "2c034bb4",
   "metadata": {},
   "outputs": [
    {
     "name": "stdout",
     "output_type": "stream",
     "text": [
      "[1.50000000000000]\n"
     ]
    }
   ],
   "source": [
    "pt_crit1=sym.solve(dev_1,x) # .solve(expresión simbólica, variable) método resolver ecuaciones (lineales y no lineales)\n",
    "print(pt_crit1)"
   ]
  },
  {
   "cell_type": "markdown",
   "id": "fb3fb2df",
   "metadata": {},
   "source": [
    "<h2 style=\"color:#FF33D1\"> Criterio primera derivada</h2>  \n",
    "<h3 style=\"color:#FF33D1\"> 1- Organizar de menor a  mayor</h3>  \n"
   ]
  },
  {
   "cell_type": "code",
   "execution_count": 6,
   "id": "ac3fb536",
   "metadata": {},
   "outputs": [
    {
     "name": "stdout",
     "output_type": "stream",
     "text": [
      "[1.50000000000000]\n"
     ]
    }
   ],
   "source": [
    "pt_crit1.sort() # .sort() organizar de menor a  mayor\n",
    "print(pt_crit1)"
   ]
  },
  {
   "cell_type": "markdown",
   "id": "21af97cd",
   "metadata": {},
   "source": [
    "<h3 style=\"color:#FF33D1\"> 2- Intervalos laterales</h3>  \n",
    "$$ (-\\infty,1.5) $$\n",
    "$$ (1.5,+\\infty) $$"
   ]
  },
  {
   "cell_type": "markdown",
   "id": "c1558114",
   "metadata": {},
   "source": [
    "<h2 style=\"color:#15CEC0\"> Modificacion =|</h2>  \n",
    "\n",
    "### Realizamos una modificación en esa parte creamos una nueva variable, para almacenar los intervalos laterales teniendo en cuenta los puntos críticos."
   ]
  },
  {
   "cell_type": "code",
   "execution_count": 7,
   "id": "52f763f0",
   "metadata": {},
   "outputs": [],
   "source": [
    "# Código antiguo =|\n",
    "#pt_crit1.insert(0,pt_crit1[0]-0.3) # Un valor hacia el  menos infinito\n",
    "#pt_crit1.insert(len(pt_crit1),pt_crit1[-1]+0.3) # Un valor hacia el màs infinito\n",
    "#print(pt_crit1)"
   ]
  },
  {
   "cell_type": "code",
   "execution_count": 8,
   "id": "04791904",
   "metadata": {},
   "outputs": [
    {
     "name": "stdout",
     "output_type": "stream",
     "text": [
      "[1.20000000000000, 1.50000000000000, 1.80000000000000]\n"
     ]
    }
   ],
   "source": [
    "# Código Nuevo =)\n",
    "# Creamos una nueva variable, para almacenar los intervalos laterales teniendo en cuenta los puntos críticos\n",
    "intervalos=pt_crit1.copy() #.copy() retorna una nueva lista sin modificar la original\n",
    "\n",
    "intervalos.insert(0,pt_crit1[0]-0.3) # Un valor hacia el  menos infinito\n",
    "intervalos.insert(len(intervalos),pt_crit1[-1]+0.3) # Un valor hacia el màs infinito\n",
    "print(intervalos)"
   ]
  },
  {
   "cell_type": "markdown",
   "id": "4c271c97",
   "metadata": {},
   "source": [
    "<h3 style=\"color:#FF33D1\"> 3- Evaluar intervalos</h3>  "
   ]
  },
  {
   "cell_type": "markdown",
   "id": "e7b887fe",
   "metadata": {},
   "source": [
    "<h2 style=\"color:#15CEC0\"> Modificacion =|</h2>  \n",
    "\n",
    "### Teniendo en cuenta la anterior modificación cambiamos el parámetro pt_cri por inte que hace referencia a los intervalos. =)"
   ]
  },
  {
   "cell_type": "code",
   "execution_count": 9,
   "id": "4bb11c42",
   "metadata": {},
   "outputs": [],
   "source": [
    "# criterio_pd = criterio primera derivada\n",
    "def criterio_pd(inte,var,dev):# Cambiamos el primer parámetro pt_cri  por  inte\n",
    "    \n",
    "    dev_eva=sym.lambdify(var, dev)\n",
    "\n",
    "    for intr in range(len(inte)-1):\n",
    "        print('Intervalo ({},{})'.format(inte[intr],inte[intr+1]))    \n",
    "        value=np.random.uniform(inte[intr]+0.001,inte[intr+1])\n",
    "        print('Valor que seleccionamos  = {}'.format(value))\n",
    "    \n",
    "        if dev_eva(value) >0:\n",
    "            print('Creciente')\n",
    "        else:\n",
    "            print('Decreciente')\n",
    "\n",
    "        print('\\n')"
   ]
  },
  {
   "cell_type": "code",
   "execution_count": 10,
   "id": "213d32ee",
   "metadata": {},
   "outputs": [
    {
     "name": "stdout",
     "output_type": "stream",
     "text": [
      "Intervalo (1.20000000000000,1.50000000000000)\n",
      "Valor que seleccionamos  = 1.4286832054879004\n",
      "Decreciente\n",
      "\n",
      "\n",
      "Intervalo (1.50000000000000,1.80000000000000)\n",
      "Valor que seleccionamos  = 1.610428758215545\n",
      "Creciente\n",
      "\n",
      "\n"
     ]
    }
   ],
   "source": [
    "criterio_pd(intervalos,x,dev_1) # Intervalos, Variable independiente (V.I), derivada"
   ]
  },
  {
   "cell_type": "markdown",
   "id": "5913985f",
   "metadata": {},
   "source": [
    "<h2 style=\"color:#08DAD4\"> ¡Y la gráfica! =)</h2>  \n",
    "<h3 style=\"color:#D82813\"> Cuidado en sobrescribir las variables simbólicas</h3>  "
   ]
  },
  {
   "cell_type": "code",
   "execution_count": 11,
   "id": "39f6d240",
   "metadata": {},
   "outputs": [],
   "source": [
    "# Generar valores dominio y rango\n",
    "x1 = np.linspace(-6, 9, 100)\n",
    "y1 = (x1-1.5)**2+0.2"
   ]
  },
  {
   "cell_type": "code",
   "execution_count": 12,
   "id": "a071c426",
   "metadata": {},
   "outputs": [
    {
     "data": {
      "image/png": "[encoded data removed]",
      "text/plain": [
       "<Figure size 500x300 with 1 Axes>"
      ]
     },
     "metadata": {},
     "output_type": "display_data"
    }
   ],
   "source": [
    "# Gràfica\n",
    "fig, ax = plt.subplots(figsize = (5,3))\n",
    "\n",
    "ax.plot(x1, y1,linewidth=2.1, c='orange', label='(x1-1.5)**2+0.2')\n",
    "\n",
    "ax.set_title('Tiene un mìnimo') # Añadir título\n",
    "ax.set_xlabel('Variable Independiente (V.I) =  x1') # Añadir label eje de las abscisas\n",
    "ax.set_ylabel('Variable dependiente  (V.D) = y1') # Añadir label eje de las ordenadas\n",
    "ax.legend() # Para activar la etiqueta (label)\n",
    "\n",
    "plt.show()"
   ]
  },
  {
   "cell_type": "markdown",
   "id": "43af9857",
   "metadata": {},
   "source": [
    "<h2 style=\"color:#3498DB\"> Segunda funciòn</h2>  \n",
    "$$F(y) = -3000/y -4y+620 $$"
   ]
  },
  {
   "cell_type": "code",
   "execution_count": 13,
   "id": "391f9dee",
   "metadata": {},
   "outputs": [
    {
     "data": {
      "text/latex": [
       "$\\displaystyle - 4 y + 620 - \\frac{3000}{y}$"
      ],
      "text/plain": [
       "-4*y + 620 - 3000/y"
      ]
     },
     "metadata": {},
     "output_type": "display_data"
    }
   ],
   "source": [
    "y= sym.symbols('y',real=True)# .symbols(V.I) declaración variables independientes V.I\n",
    "expr_2= -3000/y -4*y +620  # representación simbólicamente\n",
    "display(expr_2) # visualización simbólica"
   ]
  },
  {
   "cell_type": "markdown",
   "id": "7f0670e4",
   "metadata": {},
   "source": [
    "<h2 style=\"color:#40C220\"> Primera Derivada</h2>  \n"
   ]
  },
  {
   "cell_type": "code",
   "execution_count": 14,
   "id": "a31a660a",
   "metadata": {},
   "outputs": [
    {
     "data": {
      "text/latex": [
       "$\\displaystyle -4 + \\frac{3000}{y^{2}}$"
      ],
      "text/plain": [
       "-4 + 3000/y**2"
      ]
     },
     "metadata": {},
     "output_type": "display_data"
    }
   ],
   "source": [
    "dev_2=sym.diff(expr_2,y) # .diff(expresión simbólica, variable) método para derivar\n",
    "display(dev_2)"
   ]
  },
  {
   "cell_type": "markdown",
   "id": "68cab3ac",
   "metadata": {},
   "source": [
    "<h2 style=\"color:#F10F1C\"> Puntos crìticos</h2>  \n",
    "<h3>Un punto critico es donde la derivada es igual a acero o no existe (debido a una indeterminación).</h3>  "
   ]
  },
  {
   "cell_type": "code",
   "execution_count": 15,
   "id": "2797cc82",
   "metadata": {},
   "outputs": [
    {
     "name": "stdout",
     "output_type": "stream",
     "text": [
      "[-5*sqrt(30), 5*sqrt(30)]\n"
     ]
    }
   ],
   "source": [
    "pt_crit2=sym.solve(dev_2,y)# .solve(expresión simbólica, variable) método resolver ecuaciones (lineales y no lineales)\n",
    "print(pt_crit2)"
   ]
  },
  {
   "cell_type": "markdown",
   "id": "c29fcffe",
   "metadata": {},
   "source": [
    "<h2 style=\"color:#F10F1C\"> Añadir Punto crìtico</h2>  \n"
   ]
  },
  {
   "cell_type": "code",
   "execution_count": 16,
   "id": "83972cb7",
   "metadata": {},
   "outputs": [
    {
     "name": "stdout",
     "output_type": "stream",
     "text": [
      "[-5*sqrt(30), 5*sqrt(30), 0]\n"
     ]
    }
   ],
   "source": [
    "pt_crit2.append(0)\n",
    "print(pt_crit2)"
   ]
  },
  {
   "cell_type": "markdown",
   "id": "ef59cabc",
   "metadata": {},
   "source": [
    "<h2 style=\"color:#FF33D1\"> Criterio primera derivada</h2>  \n",
    "<h3 style=\"color:#FF33D1\"> 1- Organizar de menor a  mayor</h3>  \n"
   ]
  },
  {
   "cell_type": "code",
   "execution_count": 17,
   "id": "b6e070fb",
   "metadata": {},
   "outputs": [
    {
     "name": "stdout",
     "output_type": "stream",
     "text": [
      "[-5*sqrt(30), 0, 5*sqrt(30)]\n"
     ]
    }
   ],
   "source": [
    "pt_crit2.sort() # .sort() organizar de menor a  mayor\n",
    "print(pt_crit2)"
   ]
  },
  {
   "cell_type": "markdown",
   "id": "f27de5ad",
   "metadata": {},
   "source": [
    "<h3 style=\"color:#FF33D1\"> 2- Intervalos laterales</h3>  \n",
    "$$ (-\\infty,-5\\sqrt{30}) $$\n",
    "$$ (-5\\sqrt{30},0) $$\n",
    "$$ (0,5\\sqrt{30}) $$\n",
    "$$ (5\\sqrt{30},+\\infty) $$"
   ]
  },
  {
   "cell_type": "markdown",
   "id": "892c842c",
   "metadata": {},
   "source": [
    "<h2 style=\"color:#15CEC0\"> Tengamos en cuenta la modificación por favor =|</h2>  "
   ]
  },
  {
   "cell_type": "code",
   "execution_count": 18,
   "id": "b8bba117",
   "metadata": {},
   "outputs": [],
   "source": [
    "# Código antiguo =|\n",
    "#pt_crit2.insert(0,pt_crit2[0]-0.3) # Un valor hacia el  menos infinito\n",
    "#pt_crit2.insert(len(pt_crit2),pt_crit2[-1]+0.3) # Un valor hacia el màs infinito\n",
    "#print(pt_crit2)"
   ]
  },
  {
   "cell_type": "code",
   "execution_count": 19,
   "id": "678122ff",
   "metadata": {},
   "outputs": [
    {
     "name": "stdout",
     "output_type": "stream",
     "text": [
      "[-5*sqrt(30) - 0.3, -5*sqrt(30), 0, 5*sqrt(30), 0.3 + 5*sqrt(30)]\n"
     ]
    }
   ],
   "source": [
    "# Código Nuevo =)\n",
    "# Creamos una nueva variable, para almacenar los intervalos laterales teniendo en cuenta los puntos críticos\n",
    "intervalos=pt_crit2.copy() #.copy() retorna una nueva lista sin modificar la original\n",
    "\n",
    "intervalos.insert(0,pt_crit2[0]-0.3) # Un valor hacia el  menos infinito\n",
    "intervalos.insert(len(intervalos),pt_crit2[-1]+0.3) # Un valor hacia el màs infinito\n",
    "print(intervalos)"
   ]
  },
  {
   "cell_type": "markdown",
   "id": "8a5979ed",
   "metadata": {},
   "source": [
    "<h3 style=\"color:#FF33D1\"> 3- Evaluar intervalos</h3>  "
   ]
  },
  {
   "cell_type": "code",
   "execution_count": 20,
   "id": "3a90d5f3",
   "metadata": {},
   "outputs": [
    {
     "name": "stdout",
     "output_type": "stream",
     "text": [
      "Intervalo (-5*sqrt(30) - 0.3,-5*sqrt(30))\n",
      "Valor que seleccionamos  = -27.54480724573382\n",
      "Decreciente\n",
      "\n",
      "\n",
      "Intervalo (-5*sqrt(30),0)\n",
      "Valor que seleccionamos  = -9.984072987750558\n",
      "Creciente\n",
      "\n",
      "\n",
      "Intervalo (0,5*sqrt(30))\n",
      "Valor que seleccionamos  = 15.765558681466311\n",
      "Creciente\n",
      "\n",
      "\n",
      "Intervalo (5*sqrt(30),0.3 + 5*sqrt(30))\n",
      "Valor que seleccionamos  = 27.6095423585557\n",
      "Decreciente\n",
      "\n",
      "\n"
     ]
    }
   ],
   "source": [
    "criterio_pd(intervalos,y,dev_2) #  Intervalos, Variable independiente (V.I), derivada"
   ]
  },
  {
   "cell_type": "markdown",
   "id": "44125b71",
   "metadata": {},
   "source": [
    "\n",
    "<h2 style=\"color:#08DAD4\"> ¡Y la gráfica! =)</h2>  \n",
    "<h3 style=\"color:#D82813\"> Cuidado en sobrescribir las variables simbólicas</h3>  "
   ]
  },
  {
   "cell_type": "code",
   "execution_count": 21,
   "id": "e4becc66",
   "metadata": {},
   "outputs": [
    {
     "name": "stderr",
     "output_type": "stream",
     "text": [
      "/tmp/ipykernel_12290/4086307846.py:3: RuntimeWarning: divide by zero encountered in true_divide\n",
      "  m2 = (-3000/y2)-4*y2+620\n"
     ]
    },
    {
     "data": {
      "image/png": "[encoded data removed]",
      "text/plain": [
       "<Figure size 500x300 with 1 Axes>"
      ]
     },
     "metadata": {},
     "output_type": "display_data"
    }
   ],
   "source": [
    "\n",
    "# Generar valores dominio y rango\n",
    "y2 = np.arange(-500,500,1)\n",
    "m2 = (-3000/y2)-4*y2+620\n",
    "\n",
    "# Gràfica\n",
    "fig, ax = plt.subplots(figsize = (5,3))\n",
    "\n",
    "ax.plot(y2, m2,linewidth=3, c='green', label='(-3000/y2)-4*y2+620')\n",
    "\n",
    "ax.set_title('Hay un mìnimo y máximo') # Añadir título\n",
    "ax.set_xlabel('Variable Independiente (V.I) =  y2') # Añadir label eje de las abscisas\n",
    "ax.set_ylabel('Variable dependiente  (V.D) = m2') # Añadir label eje de las ordenadas\n",
    "ax.legend() # Para activar la etiqueta (label)\n",
    "\n",
    "plt.show()"
   ]
  }
 ],
 "metadata": {
  "kernelspec": {
   "display_name": "Python 3 (ipykernel)",
   "language": "python",
   "name": "python3"
  },
  "language_info": {
   "codemirror_mode": {
    "name": "ipython",
    "version": 3
   },
   "file_extension": ".py",
   "mimetype": "text/x-python",
   "name": "python",
   "nbconvert_exporter": "python",
   "pygments_lexer": "ipython3",
   "version": "3.8.16"
  }
 },
 "nbformat": 4,
 "nbformat_minor": 5
}
