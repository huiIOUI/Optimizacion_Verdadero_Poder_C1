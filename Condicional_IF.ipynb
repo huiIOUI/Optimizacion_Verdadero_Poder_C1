{
 "cells": [
  {
   "cell_type": "markdown",
   "id": "acc8f995",
   "metadata": {},
   "source": [
    "<h1 style=\"color:#0AA079\"> Bienvenidos a este poderoso curso de optimización =)</h1> \n",
    "\n",
    "![PICTURE](PIC_1.png)\n",
    "\n",
    "\n",
    "<center> <h3 style=\"color:#0AA079\"> Solo se requiere actitud y ganas de aprender</h3> </center> "
   ]
  },
  {
   "cell_type": "markdown",
   "id": "01c57a17",
   "metadata": {},
   "source": [
    "### Cuando nosotros necesitamos ejecutar un bloque de còdigo de acuerdo a una condición, se implementa condicional if ... else\n",
    "\n",
    "\n",
    "<center><h3><span style=\"color:#43990B;font-size:30px\">if</span> condición : </h3></center>\n",
    "<center><h3> &emsp;&emsp;&emsp;&emsp;declaraciones</h3></center>\n"
   ]
  },
  {
   "cell_type": "code",
   "execution_count": 15,
   "id": "b12f8649",
   "metadata": {},
   "outputs": [
    {
     "name": "stdout",
     "output_type": "stream",
     "text": [
      "Nùmero natural (N) =  9\n"
     ]
    }
   ],
   "source": [
    "nu_natural=9\n",
    "print('Nùmero natural (N) = ',nu_natural)"
   ]
  },
  {
   "cell_type": "code",
   "execution_count": 16,
   "id": "4e60c5b6",
   "metadata": {},
   "outputs": [
    {
     "name": "stdout",
     "output_type": "stream",
     "text": [
      "Nùmero entero (Z) =  -3\n"
     ]
    }
   ],
   "source": [
    "nu_entero=-3\n",
    "print('Nùmero entero (Z) = ',nu_entero)"
   ]
  },
  {
   "cell_type": "markdown",
   "id": "4706ff55",
   "metadata": {},
   "source": [
    "<h2 style=\"color:#06B0DA\"> Para implementar el condicional if  necesitamos de valores booleanos</h2>  "
   ]
  },
  {
   "cell_type": "code",
   "execution_count": 17,
   "id": "a248f62d",
   "metadata": {},
   "outputs": [
    {
     "name": "stdout",
     "output_type": "stream",
     "text": [
      "True\n"
     ]
    }
   ],
   "source": [
    "print(nu_natural>nu_entero)"
   ]
  },
  {
   "cell_type": "code",
   "execution_count": 18,
   "id": "7cd4a223",
   "metadata": {},
   "outputs": [
    {
     "name": "stdout",
     "output_type": "stream",
     "text": [
      "False\n"
     ]
    }
   ],
   "source": [
    "print(nu_natural<nu_entero)"
   ]
  },
  {
   "cell_type": "markdown",
   "id": "4685ec6f",
   "metadata": {},
   "source": [
    "<h2 style=\"color:#06B0DA\"> Estado verdadero ! </h2>  "
   ]
  },
  {
   "cell_type": "code",
   "execution_count": 19,
   "id": "f2d644cd",
   "metadata": {},
   "outputs": [
    {
     "name": "stdout",
     "output_type": "stream",
     "text": [
      "Verdadero 9 > -3\n"
     ]
    }
   ],
   "source": [
    "if nu_natural>nu_entero: # Si nu_natural>nu_entero\n",
    "    print('Verdadero {} > {}'.format(nu_natural,nu_entero)) # Se ejecuta lo que està dentro del if\n",
    "    \n",
    "else:# Si no\n",
    "    print(' Falso {} no es mayor que {}'.format(nu_natural,nu_entero)) # Se ejecuta lo que està dentro del else"
   ]
  },
  {
   "cell_type": "markdown",
   "id": "6f913340",
   "metadata": {},
   "source": [
    "<h2 style=\"color:#3198DB\"> Estado falso ! </h2>  "
   ]
  },
  {
   "cell_type": "code",
   "execution_count": 20,
   "id": "0c6bf689",
   "metadata": {},
   "outputs": [
    {
     "name": "stdout",
     "output_type": "stream",
     "text": [
      " Falso -9 no es mayor que -3\n"
     ]
    }
   ],
   "source": [
    "nu_natural=-9\n",
    "nu_entero=-3\n",
    "\n",
    "if nu_natural>nu_entero: # Si nu_natural>nu_entero\n",
    "    print('Verdadero {} > {}'.format(nu_natural,nu_entero)) # Se ejecuta lo que està dentro del if\n",
    "else:# Si no\n",
    "    print(' Falso {} no es mayor que {}'.format(nu_natural,nu_entero)) # Se ejecuta lo que està dentro del else"
   ]
  },
  {
   "cell_type": "markdown",
   "id": "88914682",
   "metadata": {},
   "source": [
    "<h1 style=\"color:#08DAD4\"> ¡ Aprendamos algo nuevo ! =)</h1>  \n",
    "\n",
    "<h2 style=\"color:#06B0DA\"> Condiciones lógicas  =)</h2>  \n",
    "\n",
    "* Igualdad: nu_natural __==__  nu_entero\n",
    "* No es igual: nu_natural __!=__ nu_entero\n",
    "* Menor que: nu_natural __<__ nu_entero\n",
    "* Menor igual que: nu_natural __<=__ nu_entero\n",
    "* Mayor igual: nu_natural __>__ nu_entero\n",
    "* Mayor igual que: nu_natural __>=__ nu_entero"
   ]
  },
  {
   "cell_type": "markdown",
   "id": "144a1742",
   "metadata": {},
   "source": [
    "\n",
    "\n",
    "<h2 style=\"color:#06B0DA\"> Múltiples condicionales =)</h2>  \n",
    "\n"
   ]
  },
  {
   "cell_type": "code",
   "execution_count": 21,
   "id": "8a8f27a4",
   "metadata": {},
   "outputs": [
    {
     "name": "stdout",
     "output_type": "stream",
     "text": [
      "-9 = -9\n"
     ]
    }
   ],
   "source": [
    "nu_natural=-9\n",
    "nu_entero=-9\n",
    "\n",
    "\n",
    "if nu_natural == nu_entero:# Si nu_natural == nu_entero\n",
    "    \n",
    "    print('{} = {}'.format(nu_natural,nu_entero))\n",
    "    \n",
    "\n",
    "elif nu_natural>nu_entero: # Si nu_natural>nu_entero\n",
    "    print('Verdadero {} > {}'.format(nu_natural,nu_entero)) # Se ejecuta lo que està dentro del if\n",
    "\n",
    "\n",
    "else:# Si no\n",
    "    print(' Falso {} no es mayor que {}'.format(nu_natural,nu_entero)) # Se ejecuta lo que està dentro del else"
   ]
  }
 ],
 "metadata": {
  "kernelspec": {
   "display_name": "Python 3 (ipykernel)",
   "language": "python",
   "name": "python3"
  },
  "language_info": {
   "codemirror_mode": {
    "name": "ipython",
    "version": 3
   },
   "file_extension": ".py",
   "mimetype": "text/x-python",
   "name": "python",
   "nbconvert_exporter": "python",
   "pygments_lexer": "ipython3",
   "version": "3.8.16"
  }
 },
 "nbformat": 4,
 "nbformat_minor": 5
}
