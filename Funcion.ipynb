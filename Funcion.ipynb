{
 "cells": [
  {
   "cell_type": "markdown",
   "id": "20e43298",
   "metadata": {},
   "source": [
    "<h1 style=\"color:#0AA079\"> Bienvenidos a este poderoso curso de optimización =)</h1> \n",
    "\n",
    "![PICTURE](PIC_1.png)\n",
    "\n",
    "\n",
    "<center> <h3 style=\"color:#0AA079\"> Solo se requiere actitud y ganas de aprender</h3> </center> "
   ]
  },
  {
   "cell_type": "markdown",
   "id": "0a8f50e3",
   "metadata": {},
   "source": [
    "<h1 style=\"color:#3498DB\"> Funciòn</h1>  \n",
    "\n",
    "\n",
    "### Es un bloque de còdigo que se usa para ejecutar una tarea en específico\n",
    "\n",
    "<center><h3><span style=\"color:#43990B;font-size:30px\">def</span> nombre_funcion (parámetros):</h3></center>\n",
    "<center><h3>còdigo </h3></center>\n",
    "<center><h3><span style=\"color:#43990B;font-size:24px\">return</span></h3></center>"
   ]
  },
  {
   "cell_type": "code",
   "execution_count": 1,
   "id": "478af6e8",
   "metadata": {},
   "outputs": [],
   "source": [
    "numero_uno=6\n",
    "numero_dos=9\n",
    "suma_resultado=numero_uno+numero_dos"
   ]
  },
  {
   "cell_type": "code",
   "execution_count": 2,
   "id": "c5673991",
   "metadata": {},
   "outputs": [
    {
     "name": "stdout",
     "output_type": "stream",
     "text": [
      "6 + 9 = 15\n"
     ]
    }
   ],
   "source": [
    "print('{} + {} = {}'.format(numero_uno,numero_dos,suma_resultado))"
   ]
  },
  {
   "cell_type": "markdown",
   "id": "cd3c317c",
   "metadata": {},
   "source": [
    "<h2 style=\"color:#06B0DA\"> ¿Si tuviéramos otros nùmeros? </h2>  "
   ]
  },
  {
   "cell_type": "code",
   "execution_count": 3,
   "id": "dc967d99",
   "metadata": {},
   "outputs": [],
   "source": [
    "numero_uno=60\n",
    "numero_dos=90\n",
    "suma_resultado=numero_uno+numero_dos"
   ]
  },
  {
   "cell_type": "code",
   "execution_count": 4,
   "id": "2edc94bd",
   "metadata": {},
   "outputs": [
    {
     "name": "stdout",
     "output_type": "stream",
     "text": [
      "60 + 90 = 150\n"
     ]
    }
   ],
   "source": [
    "print('{} + {} = {}'.format(numero_uno,numero_dos,suma_resultado))"
   ]
  },
  {
   "cell_type": "markdown",
   "id": "ed36fff4",
   "metadata": {},
   "source": [
    "<h2 style=\"color:#F23C16\"> Lo anterior no es la forma adecuada de implementar lo anterior no es eficiente ... =( </h2>  "
   ]
  },
  {
   "cell_type": "markdown",
   "id": "e20bfddc",
   "metadata": {},
   "source": [
    "<h2 style=\"color:#06B0DA\"> La forma adecuada es implementar una función </h2>  "
   ]
  },
  {
   "cell_type": "code",
   "execution_count": 5,
   "id": "70639f78",
   "metadata": {},
   "outputs": [],
   "source": [
    "def suma_numeros(primer_num, segundo_num):\n",
    "    \n",
    "    resultado=primer_num+segundo_num\n",
    "    return resultado"
   ]
  },
  {
   "cell_type": "code",
   "execution_count": 6,
   "id": "02dc2699",
   "metadata": {},
   "outputs": [
    {
     "name": "stdout",
     "output_type": "stream",
     "text": [
      "7\n"
     ]
    }
   ],
   "source": [
    "print(suma_numeros(3,4))"
   ]
  },
  {
   "cell_type": "code",
   "execution_count": 7,
   "id": "05edd931",
   "metadata": {},
   "outputs": [
    {
     "name": "stdout",
     "output_type": "stream",
     "text": [
      "99\n"
     ]
    }
   ],
   "source": [
    "print(suma_numeros(6,93))"
   ]
  },
  {
   "cell_type": "markdown",
   "id": "17be2155",
   "metadata": {},
   "source": [
    "<h2 style=\"color:#06B0DA\"> La que retorna una función se puede almacenar en una variable </h2>  "
   ]
  },
  {
   "cell_type": "code",
   "execution_count": 8,
   "id": "2b9b6ca5",
   "metadata": {},
   "outputs": [
    {
     "name": "stdout",
     "output_type": "stream",
     "text": [
      "15\n"
     ]
    }
   ],
   "source": [
    "suma_num=suma_numeros(9,6)\n",
    "print(suma_num)"
   ]
  },
  {
   "cell_type": "markdown",
   "id": "aade4203",
   "metadata": {},
   "source": [
    "<h1 style=\"color:#08DAD4\"> ¡ Aprendamos algo nuevo ! =)</h1> \n",
    "<h2 style=\"color:#06B0DA\"> Se puede retornar múltiples cosas en una función </h2>  "
   ]
  },
  {
   "cell_type": "code",
   "execution_count": 9,
   "id": "7f384d55",
   "metadata": {},
   "outputs": [],
   "source": [
    "def suma_numeros(primer_num, segundo_num):\n",
    "    \n",
    "    resultado=primer_num+segundo_num\n",
    "    return resultado, True, False, 3"
   ]
  },
  {
   "cell_type": "code",
   "execution_count": 10,
   "id": "abe70c40",
   "metadata": {},
   "outputs": [
    {
     "name": "stdout",
     "output_type": "stream",
     "text": [
      "15 True False 3\n"
     ]
    }
   ],
   "source": [
    "suma_num, valor_1, valor_2, valor_3=suma_numeros(9,6)\n",
    "print(suma_num, valor_1, valor_2, valor_3)"
   ]
  }
 ],
 "metadata": {
  "kernelspec": {
   "display_name": "Python 3 (ipykernel)",
   "language": "python",
   "name": "python3"
  },
  "language_info": {
   "codemirror_mode": {
    "name": "ipython",
    "version": 3
   },
   "file_extension": ".py",
   "mimetype": "text/x-python",
   "name": "python",
   "nbconvert_exporter": "python",
   "pygments_lexer": "ipython3",
   "version": "3.8.16"
  }
 },
 "nbformat": 4,
 "nbformat_minor": 5
}
