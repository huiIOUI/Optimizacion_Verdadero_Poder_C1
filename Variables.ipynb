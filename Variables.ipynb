{
 "cells": [
  {
   "cell_type": "markdown",
   "id": "ea7dc384",
   "metadata": {},
   "source": [
    "<h1 style=\"color:#0AA079\"> Bienvenidos a este poderoso curso de optimización =)</h1> \n",
    "\n",
    "![PICTURE](PIC_1.png)\n",
    "\n",
    "<center> <h3 style=\"color:#0AA079\"> Solo se requiere actitud y ganas de aprender</h3> </center> \n",
    "    \n",
    "# Variable    \n",
    "    \n",
    " Se usa para indicarle al lenguaje de programación que almacene los valores de los datos asignados a la variable a través de un nombre (que funciona como identificador).\n",
    "\n",
    "\n",
    "Es como cuando hablábamos en la sección de los conjuntos y usamos la letra A para asignar el conjunto. Asì sabemos que ahora A = conjunto nùmeros pares entre 1-10.\n",
    "\n",
    "## A pesar que es la misma idea, debemos tener en cuenta  :\n",
    "\n",
    "<ul>\n",
    "<li>Nos podemos nombrar las variables con nombres propios de la sintaxis de Python (ya vamos a ver mejor eso).</li>\n",
    "<li>Tipos de datos principalmente son nùmericos , booleanos , strings, secuencias.  </li>\n",
    "<li>Tener cuidado con la asignación del tamaño de la variable especialmente en secuencias, ya que pude llevar a consumir la mayoría de la memoria de la máquina (lo cual genera que no funcione adecuadamente). </li>\n",
    "</ul>\n",
    "\n",
    "## Una variable se declara de la siguiente forma:\n",
    "     \n",
    "<center><h3 style=\"color:#3498DB\">Nombre_de_la_variable = Su valor (numèrico, booleano, string )\n",
    "</h3> </center>  \n",
    "    \n",
    "    \n"
   ]
  },
  {
   "cell_type": "code",
   "execution_count": 1,
   "id": "c5925b0a",
   "metadata": {},
   "outputs": [
    {
     "name": "stdout",
     "output_type": "stream",
     "text": [
      "Nùmero natural (N) =  9\n"
     ]
    }
   ],
   "source": [
    "nu_natural=9\n",
    "print('Nùmero natural (N) = ',nu_natural)"
   ]
  },
  {
   "cell_type": "code",
   "execution_count": 2,
   "id": "5122279e",
   "metadata": {},
   "outputs": [
    {
     "name": "stdout",
     "output_type": "stream",
     "text": [
      "Nùmero entero (Z) =  -3\n"
     ]
    }
   ],
   "source": [
    "nu_entero=-3\n",
    "print('Nùmero entero (Z) = ',nu_entero)"
   ]
  },
  {
   "cell_type": "code",
   "execution_count": 3,
   "id": "01d863cd",
   "metadata": {},
   "outputs": [
    {
     "name": "stdout",
     "output_type": "stream",
     "text": [
      "Nùmero racional (Q) =  0.3333333333333333\n"
     ]
    }
   ],
   "source": [
    "nu_racional=1/3\n",
    "print('Nùmero racional (Q) = ',nu_racional)"
   ]
  },
  {
   "cell_type": "code",
   "execution_count": 4,
   "id": "74f7e5f1",
   "metadata": {},
   "outputs": [
    {
     "name": "stdout",
     "output_type": "stream",
     "text": [
      "Nùmero irracional (I) =  0.3333333333333333\n"
     ]
    }
   ],
   "source": [
    "# ** es para expresar la potencia 2**2=4, 3**4=81, 2**6=64\n",
    "nu_irracional=2**(1/2)\n",
    "print('Nùmero irracional (I) = ',nu_racional)"
   ]
  },
  {
   "cell_type": "code",
   "execution_count": 5,
   "id": "41c50af2",
   "metadata": {},
   "outputs": [
    {
     "name": "stdout",
     "output_type": "stream",
     "text": [
      "Nùmeros reales (R) =  9 -3 0.3333333333333333 1.4142135623730951\n"
     ]
    }
   ],
   "source": [
    "print('Nùmeros reales (R) = ',nu_natural,nu_entero,nu_racional,nu_irracional)"
   ]
  },
  {
   "cell_type": "markdown",
   "id": "7bbe5007",
   "metadata": {},
   "source": [
    "<h1 style=\"color:#3498DB\">¿Alguna forma mejor de definir varias variables?</h1>  "
   ]
  },
  {
   "cell_type": "code",
   "execution_count": 6,
   "id": "3fc08fa7",
   "metadata": {},
   "outputs": [
    {
     "name": "stdout",
     "output_type": "stream",
     "text": [
      "N=9, Z=-3, Q=0.3333333333333333, I=1.4142135623730951\n"
     ]
    }
   ],
   "source": [
    "# nu = Nùmero. N=Natural, Z= Entero, Q=Racional , I=Irracional\n",
    "nu_n, nu_z, nu_q, nu_i=9,-3,1/3,2**(1/2)\n",
    "\n",
    "print('N={}, Z={}, Q={}, I={}'.format(nu_n,nu_z,nu_q,nu_i))"
   ]
  },
  {
   "cell_type": "markdown",
   "id": "d2f6dd61",
   "metadata": {},
   "source": [
    "<h1 style=\"color:#3498DB\">¿Con qué tipo de variable estoy trabajando?</h1>  "
   ]
  },
  {
   "cell_type": "code",
   "execution_count": 7,
   "id": "8e587120",
   "metadata": {},
   "outputs": [
    {
     "name": "stdout",
     "output_type": "stream",
     "text": [
      "<class 'int'> <class 'float'>\n"
     ]
    }
   ],
   "source": [
    "# type = Nos permite saber el tipo de variable\n",
    "print(type(nu_n), type(nu_q))"
   ]
  },
  {
   "cell_type": "markdown",
   "id": "eeae7b0b",
   "metadata": {},
   "source": [
    "<h1 style=\"color:#3498DB\">Sobreescribir variables</h1>  "
   ]
  },
  {
   "cell_type": "code",
   "execution_count": 8,
   "id": "c1011b88",
   "metadata": {},
   "outputs": [
    {
     "name": "stdout",
     "output_type": "stream",
     "text": [
      "Nùmero natural (N) =  9\n",
      "Nùmero natural (N) =  3\n"
     ]
    }
   ],
   "source": [
    "print('Nùmero natural (N) = ',nu_n)\n",
    "nu_n=3\n",
    "print('Nùmero natural (N) = ',nu_n)"
   ]
  },
  {
   "cell_type": "markdown",
   "id": "266cc891",
   "metadata": {},
   "source": [
    "<h1 style=\"color:#3498DB\">Variable booleanas </h1>  "
   ]
  },
  {
   "cell_type": "code",
   "execution_count": 9,
   "id": "90e157f3",
   "metadata": {},
   "outputs": [
    {
     "name": "stdout",
     "output_type": "stream",
     "text": [
      "True False\n"
     ]
    }
   ],
   "source": [
    "var_true, var_false = True, False\n",
    "print(var_true, var_false)"
   ]
  },
  {
   "cell_type": "code",
   "execution_count": 10,
   "id": "23c7023d",
   "metadata": {},
   "outputs": [
    {
     "name": "stdout",
     "output_type": "stream",
     "text": [
      "<class 'bool'> <class 'bool'>\n"
     ]
    }
   ],
   "source": [
    "print(type(var_true),type(var_false))"
   ]
  },
  {
   "cell_type": "code",
   "execution_count": 11,
   "id": "4e1da0e3",
   "metadata": {},
   "outputs": [
    {
     "name": "stdout",
     "output_type": "stream",
     "text": [
      "Z=-3, Q=0.3333333333333333\n"
     ]
    }
   ],
   "source": [
    "print('Z={}, Q={}'.format(nu_z,nu_q))"
   ]
  },
  {
   "cell_type": "code",
   "execution_count": 12,
   "id": "904c9404",
   "metadata": {},
   "outputs": [
    {
     "name": "stdout",
     "output_type": "stream",
     "text": [
      "-3 < 0.3333333333333333 = True\n"
     ]
    }
   ],
   "source": [
    "print('{} < {} = {}'.format(nu_z,nu_q,nu_z<nu_q)) "
   ]
  },
  {
   "cell_type": "code",
   "execution_count": 13,
   "id": "1e8df21f",
   "metadata": {},
   "outputs": [
    {
     "name": "stdout",
     "output_type": "stream",
     "text": [
      "-3 > 0.3333333333333333 = False\n"
     ]
    }
   ],
   "source": [
    "print('{} > {} = {}'.format(nu_z,nu_q,nu_z>nu_q)) "
   ]
  },
  {
   "cell_type": "markdown",
   "id": "23e20a92",
   "metadata": {},
   "source": [
    "<h1 style=\"color:#3498DB\"> Strings </h1>  "
   ]
  },
  {
   "cell_type": "code",
   "execution_count": 14,
   "id": "f31ef9e9",
   "metadata": {},
   "outputs": [],
   "source": [
    "mensaje='El poder esta en la optimización =)'"
   ]
  },
  {
   "cell_type": "code",
   "execution_count": 15,
   "id": "3b4dcfe6",
   "metadata": {},
   "outputs": [
    {
     "name": "stdout",
     "output_type": "stream",
     "text": [
      "El poder esta en la optimización =)\n"
     ]
    }
   ],
   "source": [
    "print(mensaje)"
   ]
  },
  {
   "cell_type": "markdown",
   "id": "9ccbd3cd",
   "metadata": {},
   "source": [
    "<h1 style=\"color:#D82813\"> Que no puedo hacer )= </h1>  "
   ]
  },
  {
   "cell_type": "code",
   "execution_count": 21,
   "id": "ca5ed204",
   "metadata": {},
   "outputs": [],
   "source": [
    "print = 42"
   ]
  },
  {
   "cell_type": "code",
   "execution_count": 22,
   "id": "0436c2ef",
   "metadata": {},
   "outputs": [
    {
     "ename": "TypeError",
     "evalue": "'int' object is not callable",
     "output_type": "error",
     "traceback": [
      "\u001b[0;31m---------------------------------------------------------------------------\u001b[0m",
      "\u001b[0;31mTypeError\u001b[0m                                 Traceback (most recent call last)",
      "Cell \u001b[0;32mIn[22], line 1\u001b[0m\n\u001b[0;32m----> 1\u001b[0m \u001b[38;5;28;43mprint\u001b[39;49m\u001b[43m(\u001b[49m\u001b[38;5;28;43mprint\u001b[39;49m\u001b[43m)\u001b[49m\n",
      "\u001b[0;31mTypeError\u001b[0m: 'int' object is not callable"
     ]
    }
   ],
   "source": [
    "print(print)"
   ]
  },
  {
   "cell_type": "code",
   "execution_count": 23,
   "id": "8cfd829c",
   "metadata": {},
   "outputs": [
    {
     "ename": "TypeError",
     "evalue": "'int' object is not callable",
     "output_type": "error",
     "traceback": [
      "\u001b[0;31m---------------------------------------------------------------------------\u001b[0m",
      "\u001b[0;31mTypeError\u001b[0m                                 Traceback (most recent call last)",
      "Cell \u001b[0;32mIn[23], line 1\u001b[0m\n\u001b[0;32m----> 1\u001b[0m \u001b[38;5;28;43mprint\u001b[39;49m\u001b[43m(\u001b[49m\u001b[43mmensaje\u001b[49m\u001b[43m)\u001b[49m\n",
      "\u001b[0;31mTypeError\u001b[0m: 'int' object is not callable"
     ]
    }
   ],
   "source": [
    "print(mensaje)"
   ]
  },
  {
   "cell_type": "code",
   "execution_count": 19,
   "id": "9ee3cfd1",
   "metadata": {},
   "outputs": [
    {
     "ename": "SyntaxError",
     "evalue": "invalid syntax (725910669.py, line 1)",
     "output_type": "error",
     "traceback": [
      "\u001b[0;36m  Cell \u001b[0;32mIn[19], line 1\u001b[0;36m\u001b[0m\n\u001b[0;31m    no_hacer= 45P\u001b[0m\n\u001b[0m                ^\u001b[0m\n\u001b[0;31mSyntaxError\u001b[0m\u001b[0;31m:\u001b[0m invalid syntax\n"
     ]
    }
   ],
   "source": [
    "no_hacer= 45P"
   ]
  },
  {
   "cell_type": "code",
   "execution_count": 20,
   "id": "0416c0fd",
   "metadata": {},
   "outputs": [
    {
     "ename": "SyntaxError",
     "evalue": "invalid syntax (2047852115.py, line 1)",
     "output_type": "error",
     "traceback": [
      "\u001b[0;36m  Cell \u001b[0;32mIn[20], line 1\u001b[0;36m\u001b[0m\n\u001b[0;31m    no_hacer='P'45\u001b[0m\n\u001b[0m                ^\u001b[0m\n\u001b[0;31mSyntaxError\u001b[0m\u001b[0;31m:\u001b[0m invalid syntax\n"
     ]
    }
   ],
   "source": [
    "no_hacer='P'45"
   ]
  }
 ],
 "metadata": {
  "kernelspec": {
   "display_name": "Python 3 (ipykernel)",
   "language": "python",
   "name": "python3"
  },
  "language_info": {
   "codemirror_mode": {
    "name": "ipython",
    "version": 3
   },
   "file_extension": ".py",
   "mimetype": "text/x-python",
   "name": "python",
   "nbconvert_exporter": "python",
   "pygments_lexer": "ipython3",
   "version": "3.8.16"
  }
 },
 "nbformat": 4,
 "nbformat_minor": 5
}
