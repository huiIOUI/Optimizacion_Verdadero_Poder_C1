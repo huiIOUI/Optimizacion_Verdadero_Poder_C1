{
 "cells": [
  {
   "cell_type": "markdown",
   "id": "7becb18a",
   "metadata": {},
   "source": [
    "<h1 style=\"color:#0AA079\"> Bienvenidos a este poderoso curso de optimización =)</h1> \n",
    "\n",
    "![PICTURE](PIC_1.png)\n",
    "\n",
    "\n",
    "<center> <h3 style=\"color:#0AA079\"> Solo se requiere actitud y ganas de aprender</h3> </center> "
   ]
  },
  {
   "cell_type": "code",
   "execution_count": 1,
   "id": "1710f232",
   "metadata": {},
   "outputs": [],
   "source": [
    "import sympy as sym\n",
    "from IPython.display import display #Nos permite visualizar de una forma simbólica"
   ]
  },
  {
   "cell_type": "markdown",
   "id": "083bbae5",
   "metadata": {},
   "source": [
    "<h2 style=\"color:#3498DB\"> Implementación computacional discriminante</h2>  \n",
    "\n",
    "$$F(x,y) = x^2-4xy+y^3+4y$$"
   ]
  },
  {
   "cell_type": "markdown",
   "id": "6ca1cdc0",
   "metadata": {},
   "source": [
    "<h2 style=\"color:#7FA00A\"> Representación simbólica</h2>   \n"
   ]
  },
  {
   "cell_type": "code",
   "execution_count": 2,
   "id": "1e367b43",
   "metadata": {},
   "outputs": [
    {
     "data": {
      "text/latex": [
       "$\\displaystyle x^{2} - 4 x y + y^{3} + 4 y$"
      ],
      "text/plain": [
       "x**2 - 4*x*y + y**3 + 4*y"
      ]
     },
     "metadata": {},
     "output_type": "display_data"
    }
   ],
   "source": [
    "x,y = sym.symbols('x,y',real=True)\n",
    "expr_1= x**2-4*x*y+y**3+4*y # representación simbólicamente\n",
    "display(expr_1) # visualización simbólica\n"
   ]
  },
  {
   "cell_type": "markdown",
   "id": "8fcf99bd",
   "metadata": {},
   "source": [
    "<h2 style=\"color:#7FA00A\"> Primeras derivadas parciales</h2>  \n",
    "$$ \\frac{\\partial{f}}{\\partial{x}} $$"
   ]
  },
  {
   "cell_type": "code",
   "execution_count": 3,
   "id": "2753143a",
   "metadata": {},
   "outputs": [
    {
     "data": {
      "text/latex": [
       "$\\displaystyle 2 x - 4 y$"
      ],
      "text/plain": [
       "2*x - 4*y"
      ]
     },
     "metadata": {},
     "output_type": "display_data"
    }
   ],
   "source": [
    "deb_x = sym.diff(expr_1,x)\n",
    "display(deb_x)"
   ]
  },
  {
   "cell_type": "markdown",
   "id": "a8057bb2",
   "metadata": {},
   "source": [
    "$$ \\frac{\\partial{f}}{\\partial{y}} $$"
   ]
  },
  {
   "cell_type": "code",
   "execution_count": 4,
   "id": "f1a51edb",
   "metadata": {},
   "outputs": [
    {
     "data": {
      "text/latex": [
       "$\\displaystyle - 4 x + 3 y^{2} + 4$"
      ],
      "text/plain": [
       "-4*x + 3*y**2 + 4"
      ]
     },
     "metadata": {},
     "output_type": "display_data"
    }
   ],
   "source": [
    "deb_y = sym.diff(expr_1,y)\n",
    "display(deb_y)"
   ]
  },
  {
   "cell_type": "markdown",
   "id": "f82b7905",
   "metadata": {},
   "source": [
    "<h2 style=\"color:#7FA00A\"> Segundas derivadas parciales</h2>  \n",
    " $$ \\frac{\\partial^2{f}}{\\partial{x^2}} $$"
   ]
  },
  {
   "cell_type": "code",
   "execution_count": 5,
   "id": "d364290a",
   "metadata": {},
   "outputs": [
    {
     "data": {
      "text/latex": [
       "$\\displaystyle 2$"
      ],
      "text/plain": [
       "2"
      ]
     },
     "metadata": {},
     "output_type": "display_data"
    }
   ],
   "source": [
    "sdev_x = sym.diff(expr_1,x,2)\n",
    "display(sdev_x)"
   ]
  },
  {
   "cell_type": "markdown",
   "id": "2aef07f1",
   "metadata": {},
   "source": [
    " $$ \\frac{\\partial^2{f}}{\\partial{y^2}} $$"
   ]
  },
  {
   "cell_type": "code",
   "execution_count": 6,
   "id": "75ae8c39",
   "metadata": {},
   "outputs": [
    {
     "data": {
      "text/latex": [
       "$\\displaystyle 6 y$"
      ],
      "text/plain": [
       "6*y"
      ]
     },
     "metadata": {},
     "output_type": "display_data"
    }
   ],
   "source": [
    "sdev_y = sym.diff(expr_1,y,2)\n",
    "display(sdev_y)"
   ]
  },
  {
   "cell_type": "markdown",
   "id": "e84f3846",
   "metadata": {},
   "source": [
    "<h2 style=\"color:#7FA00A\"> Derivada cruzada</h2>   \n",
    "\n",
    "$$ \\frac{\\partial{f}}{\\partial{x}\\partial{y}} =  \\frac{\\partial{f}}{\\partial{y}\\partial{x}}$$\n"
   ]
  },
  {
   "cell_type": "code",
   "execution_count": 7,
   "id": "7dd9513e",
   "metadata": {},
   "outputs": [
    {
     "data": {
      "text/latex": [
       "$\\displaystyle -4$"
      ],
      "text/plain": [
       "-4"
      ]
     },
     "metadata": {},
     "output_type": "display_data"
    }
   ],
   "source": [
    "# dev= Derivada, c = cruzada\n",
    "dev_c=sym.diff(expr_1,x,y) # .diff(expresión simbólica, variable) método para derivar\n",
    "display(dev_c)# visualización simbólica"
   ]
  },
  {
   "cell_type": "markdown",
   "id": "90edc888",
   "metadata": {},
   "source": [
    "<h2 style=\"color:#F10F1C\"> Puntos crìticos</h2>  \n",
    "<h3>Un punto critico es donde la derivada es igual a acero o no existe (debido a una indeterminación).</h3>  "
   ]
  },
  {
   "cell_type": "markdown",
   "id": "9ba20b2b",
   "metadata": {},
   "source": [
    "<h2 style=\"color:#7FA00A\"> Derivadas parciales iguales a cero</h2>  "
   ]
  },
  {
   "cell_type": "code",
   "execution_count": 8,
   "id": "49c581af",
   "metadata": {},
   "outputs": [
    {
     "name": "stdout",
     "output_type": "stream",
     "text": [
      "[(4/3, 2/3), (4, 2)]\n"
     ]
    }
   ],
   "source": [
    "pt_crit=sym.solve([deb_x,deb_y],(x,y))# .solve(expresión simbólica, variable) método resolver ecuaciones (lineales y no lineales)\n",
    "print(pt_crit)"
   ]
  },
  {
   "cell_type": "markdown",
   "id": "5a4078b2",
   "metadata": {},
   "source": [
    "<h2 style=\"color:#7FA00A\"> No hay ninguna indeterminación</h2>  "
   ]
  },
  {
   "cell_type": "code",
   "execution_count": 9,
   "id": "43859e24",
   "metadata": {},
   "outputs": [
    {
     "name": "stdout",
     "output_type": "stream",
     "text": [
      "Los puntos críticos de la función son :  [(4/3, 2/3), (4, 2)]\n"
     ]
    }
   ],
   "source": [
    "# Si hubiera indeterminaciones conocemos como agregarlas con.append()\n",
    "print('Los puntos críticos de la función son : ',pt_crit )"
   ]
  },
  {
   "cell_type": "markdown",
   "id": "cd2c622e",
   "metadata": {},
   "source": [
    "<h2 style=\"color:#3498DB\"> Discriminante para una funcion de dos V.I</h2>  \n",
    " \n",
    "$$ \\frac{\\partial^2{f}}{\\partial{x^2}}*\\frac{\\partial^2{f}}{\\partial{y^2}}-({\\frac{\\partial{f}}{\\partial{x}\\partial{y}}})^2 $$"
   ]
  },
  {
   "cell_type": "code",
   "execution_count": 10,
   "id": "17a1f4cb",
   "metadata": {},
   "outputs": [],
   "source": [
    "# dvi= Dos variables independeintes\n",
    "#hgfhfg\n",
    "def discriminante_dvi(p_c,s_dp,s_ds,d_c): \n",
    "    '''p_c = Puntos críticos\n",
    "    s_dp = Segunda derivada parcial respecto primera V.I\n",
    "    s_ds = Segunda derivada parcial respecto segunda V.I\n",
    "    d_c = Derivada cruzada respecto a sus dos V.I '''\n",
    "    \n",
    "\n",
    "    for x1,y1 in p_c:\n",
    "        \n",
    "        \n",
    "        try:\n",
    "            discriminante= s_dp.subs([[x,x1],[y,y1]])*s_ds.subs([[x,x1],[y,y1]])-(d_c.subs([[x,x1],[y,y1]]))**2\n",
    "            print('\\nValor del discriminante = {}, en el punto crítico {},{}'.format(discriminante,x1,y1))\n",
    "            if discriminante>0:\n",
    "                if s_dp.subs([[x,x1],[y,y1]])>0:\n",
    "                    print('Hay un mínimo en este punto crítico {},{}'.format(x1,y1))\n",
    "                else:\n",
    "                    print('Hay un máximo en este punto crítico {},{}'.format(x1,y1))\n",
    "\n",
    "            elif discriminante<0:\n",
    "                print('Hay un saddle point en este punto crítico {},{}'.format(x1,y1))\n",
    "\n",
    "            else:\n",
    "                print('El sistema tiene soluciones infinitas')\n",
    "                \n",
    "        except Exception as error:\n",
    "            print('Cuidado indeterminación = ',error)\n",
    "            \n",
    "    \n",
    "    \n",
    "    "
   ]
  },
  {
   "cell_type": "code",
   "execution_count": 11,
   "id": "330b4685",
   "metadata": {},
   "outputs": [
    {
     "name": "stdout",
     "output_type": "stream",
     "text": [
      "\n",
      "Valor del discriminante = -8, en el punto crítico 4/3,2/3\n",
      "Hay un saddle point en este punto crítico 4/3,2/3\n",
      "\n",
      "Valor del discriminante = 8, en el punto crítico 4,2\n",
      "Hay un mínimo en este punto crítico 4,2\n"
     ]
    }
   ],
   "source": [
    "discriminante_dvi(pt_crit,sdev_x,sdev_y,dev_c)"
   ]
  },
  {
   "cell_type": "markdown",
   "id": "debabfb3",
   "metadata": {},
   "source": [
    "<h2 style=\"color:#08DAD4\"> ¡ Aprendamos algo nuevo ! =)</h2>  \n"
   ]
  },
  {
   "cell_type": "code",
   "execution_count": 12,
   "id": "fd1886b1",
   "metadata": {},
   "outputs": [
    {
     "name": "stdout",
     "output_type": "stream",
     "text": [
      "Help on function discriminante_dvi in module __main__:\n",
      "\n",
      "discriminante_dvi(p_c, s_dp, s_ds, d_c)\n",
      "    p_c = Puntos críticos\n",
      "    s_dp = Segunda derivada parcial respecto primera V.I\n",
      "    s_ds = Segunda derivada parcial respecto segunda V.I\n",
      "    d_c = Derivada cruzada respecto a sus dos V.I\n",
      "\n"
     ]
    }
   ],
   "source": [
    "help(discriminante_dvi) #Lo que hay dentro de las comillas triples son la documentación de la función"
   ]
  }
 ],
 "metadata": {
  "kernelspec": {
   "display_name": "Python 3 (ipykernel)",
   "language": "python",
   "name": "python3"
  },
  "language_info": {
   "codemirror_mode": {
    "name": "ipython",
    "version": 3
   },
   "file_extension": ".py",
   "mimetype": "text/x-python",
   "name": "python",
   "nbconvert_exporter": "python",
   "pygments_lexer": "ipython3",
   "version": "3.8.16"
  }
 },
 "nbformat": 4,
 "nbformat_minor": 5
}
