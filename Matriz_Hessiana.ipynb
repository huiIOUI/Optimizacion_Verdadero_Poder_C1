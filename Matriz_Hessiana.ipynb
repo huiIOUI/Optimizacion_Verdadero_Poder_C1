{
 "cells": [
  {
   "cell_type": "markdown",
   "id": "9f103957",
   "metadata": {},
   "source": [
    "<h1 style=\"color:#0AA079\"> Bienvenidos a este poderoso curso de optimización =)</h1> \n",
    "\n",
    "![PICTURE](PIC_1.png)\n",
    "\n",
    "\n",
    "<center> <h3 style=\"color:#0AA079\"> Solo se requiere actitud y ganas de aprender</h3> </center> \n"
   ]
  },
  {
   "cell_type": "markdown",
   "id": "58c58973",
   "metadata": {},
   "source": [
    "<h2 style=\"color:#7FA00A\"> Poderosa matriz Hessiana</h2>  \n",
    "\n",
    "![PICTURE](PIC_5.png)\n"
   ]
  },
  {
   "cell_type": "code",
   "execution_count": 1,
   "id": "56031571",
   "metadata": {},
   "outputs": [],
   "source": [
    "import sympy as sym\n",
    "from IPython.display import display #Nos permite visualizar de una forma simbólica"
   ]
  },
  {
   "cell_type": "markdown",
   "id": "87cfc1b8",
   "metadata": {},
   "source": [
    "<h2 style=\"color:#054AA3\"> Representar un matriz in Sympy </h2>  \n",
    "\n",
    "$$  A_{2\\times2} =\n",
    "  \\begin{bmatrix}\n",
    "    x_{11} & x_{12} \\\\\n",
    "    x_{21} & x_{22} \\\\\n",
    "  \\end{bmatrix}\n",
    " $$\n",
    " \n",
    " $$A_{2\\times2} = \n",
    "\\begin{bmatrix}\n",
    "6 & 54  \\\\\n",
    "72 & 32  \\\\\n",
    "\\end{bmatrix} $$"
   ]
  },
  {
   "cell_type": "code",
   "execution_count": 2,
   "id": "e411fe6e",
   "metadata": {},
   "outputs": [
    {
     "data": {
      "text/latex": [
       "$\\displaystyle \\left[\\begin{matrix}6 & 54\\\\72 & 32\\end{matrix}\\right]$"
      ],
      "text/plain": [
       "Matrix([\n",
       "[ 6, 54],\n",
       "[72, 32]])"
      ]
     },
     "metadata": {},
     "output_type": "display_data"
    }
   ],
   "source": [
    "matriz=sym.Matrix([[6,54],[72,32]]) # cada [] es un fila\n",
    "display(matriz)"
   ]
  },
  {
   "cell_type": "markdown",
   "id": "3f014e5e",
   "metadata": {},
   "source": [
    "<h2 style=\"color:#3498DB\"> Como seleccionar elementos de una matriz</h2>  \n",
    "<h3 style=\"color:#7FA00A\"> Cuidado el elemento 1,1 de una matriz computacionalmente es el 0,0</h3>  "
   ]
  },
  {
   "cell_type": "code",
   "execution_count": 3,
   "id": "346104ab",
   "metadata": {},
   "outputs": [
    {
     "name": "stdout",
     "output_type": "stream",
     "text": [
      "Es 32 el elememto 1,1 de la matriz\n",
      "O 6 es el elemento 1,1\n"
     ]
    }
   ],
   "source": [
    "print('Es {} el elememto 1,1 de la matriz\\nO {} es el elemento 1,1'.format(matriz[1,1],matriz[0,0]))"
   ]
  },
  {
   "cell_type": "code",
   "execution_count": 4,
   "id": "1032f7b7",
   "metadata": {},
   "outputs": [
    {
     "name": "stdout",
     "output_type": "stream",
     "text": [
      "El elemento 0,0 de la matriz es  6\n"
     ]
    }
   ],
   "source": [
    "print('El elemento 0,0 de la matriz es ',matriz[0,0])"
   ]
  },
  {
   "cell_type": "markdown",
   "id": "b1df38a4",
   "metadata": {},
   "source": [
    "<h3 style=\"color:#3498DB\"> Significado  [Fila, Columna]</h3>  \n",
    " $$A_{2\\times2} = \n",
    "\\begin{bmatrix}\n",
    "6 & 54  \\\\\n",
    "72 & 32  \\\\\n",
    "\\end{bmatrix} $$"
   ]
  },
  {
   "cell_type": "code",
   "execution_count": 5,
   "id": "31324239",
   "metadata": {},
   "outputs": [
    {
     "data": {
      "text/latex": [
       "$\\displaystyle \\left[\\begin{matrix}6 & 54\\\\72 & 32\\end{matrix}\\right]$"
      ],
      "text/plain": [
       "Matrix([\n",
       "[ 6, 54],\n",
       "[72, 32]])"
      ]
     },
     "execution_count": 5,
     "metadata": {},
     "output_type": "execute_result"
    }
   ],
   "source": [
    "matriz[:,:]"
   ]
  },
  {
   "cell_type": "code",
   "execution_count": 6,
   "id": "27bcc6f5",
   "metadata": {},
   "outputs": [
    {
     "data": {
      "text/latex": [
       "$\\displaystyle \\left[\\begin{matrix}6 & 54\\end{matrix}\\right]$"
      ],
      "text/plain": [
       "Matrix([[6, 54]])"
      ]
     },
     "execution_count": 6,
     "metadata": {},
     "output_type": "execute_result"
    }
   ],
   "source": [
    "matriz[0,:] # Primera fila"
   ]
  },
  {
   "cell_type": "code",
   "execution_count": 7,
   "id": "2fc0f3be",
   "metadata": {},
   "outputs": [
    {
     "data": {
      "text/latex": [
       "$\\displaystyle \\left[\\begin{matrix}72 & 32\\end{matrix}\\right]$"
      ],
      "text/plain": [
       "Matrix([[72, 32]])"
      ]
     },
     "execution_count": 7,
     "metadata": {},
     "output_type": "execute_result"
    }
   ],
   "source": [
    "matriz[1,:] # Segunda fila"
   ]
  },
  {
   "cell_type": "code",
   "execution_count": 8,
   "id": "19363502",
   "metadata": {},
   "outputs": [
    {
     "data": {
      "text/latex": [
       "$\\displaystyle \\left[\\begin{matrix}6\\\\72\\end{matrix}\\right]$"
      ],
      "text/plain": [
       "Matrix([\n",
       "[ 6],\n",
       "[72]])"
      ]
     },
     "execution_count": 8,
     "metadata": {},
     "output_type": "execute_result"
    }
   ],
   "source": [
    "matriz[:,0] # Primera columna"
   ]
  },
  {
   "cell_type": "code",
   "execution_count": 9,
   "id": "4ca4db8e",
   "metadata": {},
   "outputs": [
    {
     "data": {
      "text/latex": [
       "$\\displaystyle \\left[\\begin{matrix}54\\\\32\\end{matrix}\\right]$"
      ],
      "text/plain": [
       "Matrix([\n",
       "[54],\n",
       "[32]])"
      ]
     },
     "execution_count": 9,
     "metadata": {},
     "output_type": "execute_result"
    }
   ],
   "source": [
    "matriz[:,1] # Segunda columna"
   ]
  },
  {
   "cell_type": "code",
   "execution_count": 10,
   "id": "4cf685d6",
   "metadata": {},
   "outputs": [
    {
     "data": {
      "text/latex": [
       "$\\displaystyle \\left[\\begin{matrix}6 & 54\\\\72 & 32\\end{matrix}\\right]$"
      ],
      "text/plain": [
       "Matrix([\n",
       "[ 6, 54],\n",
       "[72, 32]])"
      ]
     },
     "execution_count": 10,
     "metadata": {},
     "output_type": "execute_result"
    }
   ],
   "source": [
    "matriz[:2,:2]"
   ]
  },
  {
   "cell_type": "markdown",
   "id": "d51c10f7",
   "metadata": {},
   "source": [
    "<h2 style=\"color:#3498DB\"> Primera funciòn</h2>  \n",
    "\n",
    "$$F(x,y) = x^2+y^2-9xy $$"
   ]
  },
  {
   "cell_type": "code",
   "execution_count": 11,
   "id": "21cebb20",
   "metadata": {},
   "outputs": [],
   "source": [
    "x,y= sym.symbols('x,y')\n",
    "expr_1= x**2+y**2-9*x*y"
   ]
  },
  {
   "cell_type": "code",
   "execution_count": 12,
   "id": "1e916e4c",
   "metadata": {},
   "outputs": [
    {
     "data": {
      "text/latex": [
       "$\\displaystyle x^{2} - 9 x y + y^{2}$"
      ],
      "text/plain": [
       "x**2 - 9*x*y + y**2"
      ]
     },
     "metadata": {},
     "output_type": "display_data"
    }
   ],
   "source": [
    "display(expr_1) "
   ]
  },
  {
   "cell_type": "code",
   "execution_count": 13,
   "id": "b8fd5a4f",
   "metadata": {},
   "outputs": [
    {
     "data": {
      "text/latex": [
       "$\\displaystyle 2$"
      ],
      "text/plain": [
       "2"
      ]
     },
     "execution_count": 13,
     "metadata": {},
     "output_type": "execute_result"
    }
   ],
   "source": [
    "sym.diff(expr_1,x,2)"
   ]
  },
  {
   "cell_type": "code",
   "execution_count": 14,
   "id": "54fef7c9",
   "metadata": {},
   "outputs": [],
   "source": [
    "# mat= Matriz, h= Hessiana\n",
    "mat_h1=sym.Matrix([[sym.diff(expr_1,x,2), sym.diff(expr_1,y,x)], [sym.diff(expr_1,x,y), sym.diff(expr_1,y,2)]]) #cada [] es una fila "
   ]
  },
  {
   "cell_type": "code",
   "execution_count": 15,
   "id": "f60d5a4c",
   "metadata": {},
   "outputs": [
    {
     "data": {
      "text/latex": [
       "$\\displaystyle \\left[\\begin{matrix}2 & -9\\\\-9 & 2\\end{matrix}\\right]$"
      ],
      "text/plain": [
       "Matrix([\n",
       "[ 2, -9],\n",
       "[-9,  2]])"
      ]
     },
     "metadata": {},
     "output_type": "display_data"
    }
   ],
   "source": [
    "display(mat_h1)"
   ]
  },
  {
   "cell_type": "markdown",
   "id": "ca826bb8",
   "metadata": {},
   "source": [
    "<h2 style=\"color:#3498DB\"> Segunda funciòn</h2>  \n",
    "\n",
    "$$Q(u,r) = \\frac{r^2u}{2}+ru^3 $$"
   ]
  },
  {
   "cell_type": "code",
   "execution_count": 16,
   "id": "e3de1d47",
   "metadata": {},
   "outputs": [
    {
     "data": {
      "text/latex": [
       "$\\displaystyle \\frac{r^{2} u}{2} + r u^{3}$"
      ],
      "text/plain": [
       "r**2*u/2 + r*u**3"
      ]
     },
     "metadata": {},
     "output_type": "display_data"
    }
   ],
   "source": [
    "r,u= sym.symbols('r,u')\n",
    "expr_2= r**2*u/2+r*u**3\n",
    "display(expr_2)"
   ]
  },
  {
   "cell_type": "code",
   "execution_count": 17,
   "id": "237094b9",
   "metadata": {},
   "outputs": [],
   "source": [
    "mat_h2=sym.Matrix([[sym.diff(expr_2,r,2), sym.diff(expr_2,u,r)], [sym.diff(expr_2,r,u), sym.diff(expr_2,u,2)]]) #cada [] es un fila"
   ]
  },
  {
   "cell_type": "code",
   "execution_count": 18,
   "id": "22c5c3a3",
   "metadata": {},
   "outputs": [
    {
     "data": {
      "text/latex": [
       "$\\displaystyle \\left[\\begin{matrix}u & r + 3 u^{2}\\\\r + 3 u^{2} & 6 r u\\end{matrix}\\right]$"
      ],
      "text/plain": [
       "Matrix([\n",
       "[         u, r + 3*u**2],\n",
       "[r + 3*u**2,      6*r*u]])"
      ]
     },
     "metadata": {},
     "output_type": "display_data"
    }
   ],
   "source": [
    "display(mat_h2)"
   ]
  },
  {
   "cell_type": "markdown",
   "id": "1cbdf51b",
   "metadata": {},
   "source": [
    "<h2 style=\"color:#3498DB\"> Evaluar poderosa matriz Hessiana</h2>  \n"
   ]
  },
  {
   "cell_type": "code",
   "execution_count": 19,
   "id": "da983dc9",
   "metadata": {},
   "outputs": [],
   "source": [
    "#mat_he= matriz Hessiana evaluaciòn\n",
    "mat_he=mat_h2.subs([(r,1),(u,2)])"
   ]
  },
  {
   "cell_type": "code",
   "execution_count": 20,
   "id": "af574948",
   "metadata": {},
   "outputs": [
    {
     "data": {
      "text/latex": [
       "$\\displaystyle \\left[\\begin{matrix}2 & 13\\\\13 & 12\\end{matrix}\\right]$"
      ],
      "text/plain": [
       "Matrix([\n",
       "[ 2, 13],\n",
       "[13, 12]])"
      ]
     },
     "metadata": {},
     "output_type": "display_data"
    }
   ],
   "source": [
    "display(mat_he)"
   ]
  },
  {
   "cell_type": "code",
   "execution_count": 21,
   "id": "d384e2a7",
   "metadata": {},
   "outputs": [],
   "source": [
    "#mat_hef= matriz Hessiana evaluaciòn funciòn\n",
    "mat_hef=sym.lambdify([r,u],mat_h2)"
   ]
  },
  {
   "cell_type": "code",
   "execution_count": 22,
   "id": "7d6b8175",
   "metadata": {},
   "outputs": [
    {
     "data": {
      "text/plain": [
       "array([[ 2, 13],\n",
       "       [13, 12]])"
      ]
     },
     "execution_count": 22,
     "metadata": {},
     "output_type": "execute_result"
    }
   ],
   "source": [
    "mat_hef(1,2)"
   ]
  }
 ],
 "metadata": {
  "kernelspec": {
   "display_name": "Python 3 (ipykernel)",
   "language": "python",
   "name": "python3"
  },
  "language_info": {
   "codemirror_mode": {
    "name": "ipython",
    "version": 3
   },
   "file_extension": ".py",
   "mimetype": "text/x-python",
   "name": "python",
   "nbconvert_exporter": "python",
   "pygments_lexer": "ipython3",
   "version": "3.8.16"
  }
 },
 "nbformat": 4,
 "nbformat_minor": 5
}
