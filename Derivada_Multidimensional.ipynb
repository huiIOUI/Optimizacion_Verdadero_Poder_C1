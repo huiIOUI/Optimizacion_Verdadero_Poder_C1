{
 "cells": [
  {
   "cell_type": "markdown",
   "id": "c738a54d",
   "metadata": {},
   "source": [
    "<h1 style=\"color:#0AA079\"> Bienvenidos a este poderoso curso de optimización =)</h1> \n",
    "\n",
    "![PICTURE](PIC_1.png)\n",
    "\n",
    "\n",
    "<center> <h3 style=\"color:#0AA079\"> Solo se requiere actitud y ganas de aprender</h3> </center> \n"
   ]
  },
  {
   "cell_type": "code",
   "execution_count": 1,
   "id": "05f18a92",
   "metadata": {},
   "outputs": [],
   "source": [
    "import sympy as sym\n",
    "from IPython.display import display #Nos permite visualizar de una forma simbólica"
   ]
  },
  {
   "cell_type": "markdown",
   "id": "aed15243",
   "metadata": {},
   "source": [
    "<h2 style=\"color:#3498DB\"> Primera funciòn</h2>  \n",
    "\n",
    "$$Vc(r,h) = \\pi r^2 h$$"
   ]
  },
  {
   "cell_type": "code",
   "execution_count": 2,
   "id": "4c7b0edc",
   "metadata": {},
   "outputs": [
    {
     "data": {
      "text/latex": [
       "$\\displaystyle \\pi h r^{2}$"
      ],
      "text/plain": [
       "pi*h*r**2"
      ]
     },
     "metadata": {},
     "output_type": "display_data"
    },
    {
     "name": "stdout",
     "output_type": "stream",
     "text": [
      "226.1946710584651\n"
     ]
    }
   ],
   "source": [
    "r,h = sym.symbols('r,h',real=True)# .symbols(V.I) declaración variables independientes V.I\n",
    "expr_1=sym.pi*r**2*h # representación simbólicamente\n",
    "display(expr_1) # visualización simbólica\n",
    "\n",
    "fun_1 = sym.lambdify([r,h], expr_1)  # lambdify( V.I, expresión simbólica) evaluaciòn expresión simbólica\n",
    "print(fun_1(6,2))"
   ]
  },
  {
   "cell_type": "markdown",
   "id": "eec32e8c",
   "metadata": {},
   "source": [
    "<h2 style=\"color:#7FA00A\"> Derivada parcial</h2>   \n",
    "\n",
    "$$ \\frac{\\partial{v}}{\\partial{r}} $$\n"
   ]
  },
  {
   "cell_type": "code",
   "execution_count": 3,
   "id": "ac46fb7f",
   "metadata": {},
   "outputs": [
    {
     "data": {
      "text/latex": [
       "$\\displaystyle 2 \\pi h r$"
      ],
      "text/plain": [
       "2*pi*h*r"
      ]
     },
     "metadata": {},
     "output_type": "display_data"
    }
   ],
   "source": [
    "# dev= Derivada\n",
    "dev_r=sym.diff(expr_1,r) # .diff(expresión simbólica, variable) método para derivar\n",
    "display(dev_r)# visualización simbólica"
   ]
  },
  {
   "cell_type": "markdown",
   "id": "6a003abf",
   "metadata": {},
   "source": [
    "$$ \\frac{\\partial{v}}{\\partial{h}} $$\n"
   ]
  },
  {
   "cell_type": "code",
   "execution_count": 4,
   "id": "772cabe1",
   "metadata": {},
   "outputs": [
    {
     "data": {
      "text/latex": [
       "$\\displaystyle \\pi r^{2}$"
      ],
      "text/plain": [
       "pi*r**2"
      ]
     },
     "metadata": {},
     "output_type": "display_data"
    }
   ],
   "source": [
    "# dev= Derivada\n",
    "dev_h=sym.diff(expr_1,h) # .diff(expresión simbólica, variable) método para derivar\n",
    "display(dev_h)# visualización simbólica"
   ]
  },
  {
   "cell_type": "markdown",
   "id": "1777cea2",
   "metadata": {},
   "source": [
    "<h2 style=\"color:#7FA00A\"> Evaluar derivada parcial</h2>  \n",
    "\n",
    "$$ \\frac{\\partial{v}}{\\partial{r}}\\Bigg|_{r=30,h=10} $$"
   ]
  },
  {
   "cell_type": "code",
   "execution_count": 5,
   "id": "b9965e99",
   "metadata": {},
   "outputs": [
    {
     "name": "stdout",
     "output_type": "stream",
     "text": [
      "1884.9555921538758\n"
     ]
    }
   ],
   "source": [
    "dev_rev1=sym.lambdify([r,h], dev_r) # lambdify( V.I, expresión simbólica) evaluaciòn expresión simbólica\n",
    "print(dev_rev1(30,10))"
   ]
  },
  {
   "cell_type": "markdown",
   "id": "14a27468",
   "metadata": {},
   "source": [
    "$$ \\frac{\\partial{v}}{\\partial{h}}\\Bigg|_{r=30,h=10} $$"
   ]
  },
  {
   "cell_type": "code",
   "execution_count": 6,
   "id": "1ac7800a",
   "metadata": {},
   "outputs": [
    {
     "name": "stdout",
     "output_type": "stream",
     "text": [
      "2827.4333882308138\n"
     ]
    }
   ],
   "source": [
    "dev_hev1=sym.lambdify([r,h], dev_h) # lambdify( V.I, expresión simbólica) evaluaciòn expresión simbólica\n",
    "print(dev_hev1(30,10))"
   ]
  },
  {
   "cell_type": "markdown",
   "id": "acae5e5b",
   "metadata": {},
   "source": [
    "<h2 style=\"color:#7FA00A\"> Derivadas orden superior</h2>   "
   ]
  },
  {
   "cell_type": "markdown",
   "id": "94f750c2",
   "metadata": {},
   "source": [
    " $$ \\frac{\\partial^2{v}}{\\partial{r^2}} $$"
   ]
  },
  {
   "cell_type": "code",
   "execution_count": 7,
   "id": "f14819f8",
   "metadata": {},
   "outputs": [
    {
     "data": {
      "text/latex": [
       "$\\displaystyle 2 \\pi h$"
      ],
      "text/plain": [
       "2*pi*h"
      ]
     },
     "metadata": {},
     "output_type": "display_data"
    }
   ],
   "source": [
    "# dev= Derivada\n",
    "sdev_r=sym.diff(expr_1,r,2) # #.diff(expresión simbólica, variable, orden derivaciòn) método para derivar\n",
    "display(sdev_r)# visualización simbólica"
   ]
  },
  {
   "cell_type": "markdown",
   "id": "5c1c05ed",
   "metadata": {},
   "source": [
    " $$ \\frac{\\partial^2{v}}{\\partial{h^2}} $$"
   ]
  },
  {
   "cell_type": "code",
   "execution_count": 8,
   "id": "fff5cce9",
   "metadata": {},
   "outputs": [
    {
     "data": {
      "text/latex": [
       "$\\displaystyle 0$"
      ],
      "text/plain": [
       "0"
      ]
     },
     "metadata": {},
     "output_type": "display_data"
    }
   ],
   "source": [
    "# dev= Derivada\n",
    "sdev_h=sym.diff(expr_1,h,2) #.diff(expresión simbólica, variable, orden derivaciòn) método para derivar\n",
    "display(sdev_h)# visualización simbólica"
   ]
  },
  {
   "cell_type": "markdown",
   "id": "0c28494d",
   "metadata": {},
   "source": [
    "<h3 style=\"color:#7FA00A\"> Derivadas cruzadas</h3>   \n",
    "\n",
    "$$ \\frac{\\partial{v}}{\\partial{h}\\partial{r}} =  \\frac{\\partial{v}}{\\partial{r}\\partial{h}}$$\n"
   ]
  },
  {
   "cell_type": "code",
   "execution_count": 9,
   "id": "e65a2d75",
   "metadata": {},
   "outputs": [
    {
     "data": {
      "text/latex": [
       "$\\displaystyle 2 \\pi r$"
      ],
      "text/plain": [
       "2*pi*r"
      ]
     },
     "metadata": {},
     "output_type": "display_data"
    }
   ],
   "source": [
    "# dev= Derivada, c = cruzada\n",
    "dev_c1=sym.diff(expr_1,r,h) # .diff(expresión simbólica, variable) método para derivar\n",
    "display(dev_c1)# visualización simbólica"
   ]
  },
  {
   "cell_type": "code",
   "execution_count": 10,
   "id": "4d73b101",
   "metadata": {},
   "outputs": [
    {
     "data": {
      "text/latex": [
       "$\\displaystyle 2 \\pi r$"
      ],
      "text/plain": [
       "2*pi*r"
      ]
     },
     "metadata": {},
     "output_type": "display_data"
    }
   ],
   "source": [
    "# dev= Derivada, c = cruzada\n",
    "dev_c2=sym.diff(expr_1,h,r) # .diff(expresión simbólica, variable) método para derivar\n",
    "display(dev_c2)# visualización simbólica"
   ]
  }
 ],
 "metadata": {
  "kernelspec": {
   "display_name": "Python 3 (ipykernel)",
   "language": "python",
   "name": "python3"
  },
  "language_info": {
   "codemirror_mode": {
    "name": "ipython",
    "version": 3
   },
   "file_extension": ".py",
   "mimetype": "text/x-python",
   "name": "python",
   "nbconvert_exporter": "python",
   "pygments_lexer": "ipython3",
   "version": "3.8.16"
  }
 },
 "nbformat": 4,
 "nbformat_minor": 5
}
