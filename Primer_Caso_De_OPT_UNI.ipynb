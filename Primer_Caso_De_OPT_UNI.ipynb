{
 "cells": [
  {
   "cell_type": "markdown",
   "id": "105a9b32",
   "metadata": {},
   "source": [
    "<h1 style=\"color:#0AA079\"> Bienvenidos a este poderoso curso de optimización =)</h1> \n",
    "\n",
    "![PICTURE](PIC_1.png)\n",
    "\n",
    "\n",
    "<center> <h3 style=\"color:#0AA079\"> Solo se requiere actitud y ganas de aprender</h3> </center> \n"
   ]
  },
  {
   "cell_type": "code",
   "execution_count": 22,
   "id": "6b5efae6",
   "metadata": {},
   "outputs": [],
   "source": [
    "import sympy as sym\n",
    "from IPython.display import display #Nos permite visualizar de una forma simbólica\n",
    "import numpy as np\n",
    "import matplotlib.pyplot as plt"
   ]
  },
  {
   "cell_type": "code",
   "execution_count": 23,
   "id": "cf9e7355",
   "metadata": {},
   "outputs": [],
   "source": [
    "plt.style.use('_mpl-gallery') # Añade estilo(cuadricula) a las gráficas 2D"
   ]
  },
  {
   "cell_type": "markdown",
   "id": "8875ef19",
   "metadata": {},
   "source": [
    "<h2 style=\"color:#3498DB\"> Función-maximizar</h2>  \n",
    "\n",
    "$$\\max_{b} 2(\\frac{330-2b}{3})b$$"
   ]
  },
  {
   "cell_type": "markdown",
   "id": "3e0d31c8",
   "metadata": {},
   "source": [
    "<h3 style=\"color:#3498DB\">Representaciones simbólicas  b,h</h3>  \n"
   ]
  },
  {
   "cell_type": "code",
   "execution_count": 24,
   "id": "3f156785",
   "metadata": {},
   "outputs": [],
   "source": [
    "b,h= sym.symbols('b,h',real=True) # .symbols(V.I) declaración variables independientes V.I\n",
    "expr_b=  2*((330-2*b)/3)*b # representación simbólicamente de b\n",
    "expr_h=(330-2*b)/3 # representación simbólicamente de h\n"
   ]
  },
  {
   "cell_type": "code",
   "execution_count": 25,
   "id": "95cf828f",
   "metadata": {},
   "outputs": [
    {
     "data": {
      "text/latex": [
       "$\\displaystyle b \\left(220 - \\frac{4 b}{3}\\right)$"
      ],
      "text/plain": [
       "b*(220 - 4*b/3)"
      ]
     },
     "metadata": {},
     "output_type": "display_data"
    }
   ],
   "source": [
    "display(expr_b) # visualización simbólica de b"
   ]
  },
  {
   "cell_type": "code",
   "execution_count": 26,
   "id": "29fd7238",
   "metadata": {},
   "outputs": [
    {
     "data": {
      "text/latex": [
       "$\\displaystyle 110 - \\frac{2 b}{3}$"
      ],
      "text/plain": [
       "110 - 2*b/3"
      ]
     },
     "metadata": {},
     "output_type": "display_data"
    }
   ],
   "source": [
    "display(expr_h) # visualización simbólica de h"
   ]
  },
  {
   "cell_type": "markdown",
   "id": "d1b97788",
   "metadata": {},
   "source": [
    "<h2 style=\"color:#40C220\"> Primera Derivada</h2>  \n"
   ]
  },
  {
   "cell_type": "code",
   "execution_count": 27,
   "id": "76021303",
   "metadata": {},
   "outputs": [
    {
     "data": {
      "text/latex": [
       "$\\displaystyle 220 - \\frac{8 b}{3}$"
      ],
      "text/plain": [
       "220 - 8*b/3"
      ]
     },
     "metadata": {},
     "output_type": "display_data"
    }
   ],
   "source": [
    "dev_p_b=sym.diff(expr_b,b) # .diff(expresión simbólica, variable) método para derivar\n",
    "display(dev_p_b)"
   ]
  },
  {
   "cell_type": "markdown",
   "id": "b41d5cee",
   "metadata": {},
   "source": [
    "<h2 style=\"color:#40C220\"> Segunda Derivada</h2>  \n"
   ]
  },
  {
   "cell_type": "code",
   "execution_count": 28,
   "id": "7c624c59",
   "metadata": {},
   "outputs": [
    {
     "data": {
      "text/latex": [
       "$\\displaystyle - \\frac{8}{3}$"
      ],
      "text/plain": [
       "-8/3"
      ]
     },
     "metadata": {},
     "output_type": "display_data"
    }
   ],
   "source": [
    "dev_s_b=sym.diff(expr_b,b,2) # .diff(expresión simbólica, variable) método para derivar\n",
    "display(dev_s_b)"
   ]
  },
  {
   "cell_type": "markdown",
   "id": "21e590ff",
   "metadata": {},
   "source": [
    "<h2 style=\"color:#F10F1C\"> Puntos crìticos</h2>  \n",
    "<h3>Un punto critico es donde la derivada es igual a acero o no existe (debido a una indeterminación).</h3>  "
   ]
  },
  {
   "cell_type": "code",
   "execution_count": 29,
   "id": "3841bb41",
   "metadata": {},
   "outputs": [
    {
     "name": "stdout",
     "output_type": "stream",
     "text": [
      "[165/2]\n"
     ]
    }
   ],
   "source": [
    "pt_crit=sym.solve(dev_p_b,b) # .solve(expresión simbólica, variable) método resolver ecuaciones (lineales y no lineales)\n",
    "print(pt_crit)"
   ]
  },
  {
   "cell_type": "markdown",
   "id": "178d2cb1",
   "metadata": {},
   "source": [
    "<h3 style=\"color:#F10F1C\"> ¿Hay indeterminaciones en la derivada?</h2>  \n"
   ]
  },
  {
   "cell_type": "code",
   "execution_count": 30,
   "id": "b5fb3dee",
   "metadata": {},
   "outputs": [],
   "source": [
    "#En este caso no hay, pero su hubiera se deben agregan con .append() como sabemos ... =)\n",
    "#pt_crit.append()"
   ]
  },
  {
   "cell_type": "markdown",
   "id": "582a52e2",
   "metadata": {},
   "source": [
    "<h2 style=\"color:#FF33D1\"> Criterio primera derivada</h2>  "
   ]
  },
  {
   "cell_type": "code",
   "execution_count": 31,
   "id": "2866c760",
   "metadata": {},
   "outputs": [],
   "source": [
    "def criterio_pd(inte,var,dev):\n",
    "    '''\n",
    "    inte = Intervalos\n",
    "    var = Variable independiente (V.I)\n",
    "    dev = Derivada\n",
    "    '''\n",
    "    \n",
    "    \n",
    "    dev_eva=sym.lambdify(var, dev)\n",
    "\n",
    "    for intr in range(len(inte)-1):\n",
    "        print('Intervalo ({},{})'.format(inte[intr],inte[intr+1]))    \n",
    "        value=np.random.uniform(inte[intr]+0.001,inte[intr+1])\n",
    "        print('Valor que seleccionamos  = {}'.format(value))\n",
    "    \n",
    "        if dev_eva(value) >0:\n",
    "            print('Creciente')\n",
    "        else:\n",
    "            print('Decreciente')\n",
    "\n",
    "        print('\\n')"
   ]
  },
  {
   "cell_type": "markdown",
   "id": "077c8e59",
   "metadata": {},
   "source": [
    "<h3 style=\"color:#FF33D1\"> 1- Organizar de menor a  mayor</h3>  "
   ]
  },
  {
   "cell_type": "code",
   "execution_count": 32,
   "id": "77839232",
   "metadata": {},
   "outputs": [
    {
     "name": "stdout",
     "output_type": "stream",
     "text": [
      "[165/2]\n"
     ]
    }
   ],
   "source": [
    "pt_crit.sort() # .sort() organizar de menor a  mayor\n",
    "print(pt_crit)"
   ]
  },
  {
   "cell_type": "markdown",
   "id": "0ca7516e",
   "metadata": {},
   "source": [
    "<h3 style=\"color:#FF33D1\"> 2- Intervalos laterales</h3> \n",
    "$$ (-\\infty,\\frac{165}{2}) $$\n",
    "$$ (\\frac{165}{2},+\\infty) $$"
   ]
  },
  {
   "cell_type": "code",
   "execution_count": 33,
   "id": "17220b63",
   "metadata": {},
   "outputs": [
    {
     "name": "stdout",
     "output_type": "stream",
     "text": [
      "[82.2000000000000, 165/2, 82.8000000000000]\n"
     ]
    }
   ],
   "source": [
    "# Creamos una nueva variable, para almacenar los intervalos laterales teniendo en cuenta los puntos críticos\n",
    "intervalos=pt_crit.copy() #.copy() retorna una nueva lista sin modificar la original\n",
    "\n",
    "intervalos.insert(0,pt_crit[0]-0.3) # Un valor hacia el  menos infinito\n",
    "intervalos.insert(len(intervalos),pt_crit[-1]+0.3) # Un valor hacia el màs infinito\n",
    "print(intervalos)"
   ]
  },
  {
   "cell_type": "markdown",
   "id": "5b14367f",
   "metadata": {},
   "source": [
    "<h3 style=\"color:#FF33D1\"> 3- Evaluar intervalos</h3>  "
   ]
  },
  {
   "cell_type": "code",
   "execution_count": 34,
   "id": "673940e7",
   "metadata": {},
   "outputs": [
    {
     "name": "stdout",
     "output_type": "stream",
     "text": [
      "Help on function criterio_pd in module __main__:\n",
      "\n",
      "criterio_pd(inte, var, dev)\n",
      "    inte = Intervalos\n",
      "    var = Variable independiente (V.I)\n",
      "    dev = Derivada\n",
      "\n"
     ]
    }
   ],
   "source": [
    "help(criterio_pd)"
   ]
  },
  {
   "cell_type": "code",
   "execution_count": 35,
   "id": "e3492c48",
   "metadata": {},
   "outputs": [
    {
     "name": "stdout",
     "output_type": "stream",
     "text": [
      "Intervalo (82.2000000000000,165/2)\n",
      "Valor que seleccionamos  = 82.42557947414878\n",
      "Creciente\n",
      "\n",
      "\n",
      "Intervalo (165/2,82.8000000000000)\n",
      "Valor que seleccionamos  = 82.71760163178769\n",
      "Decreciente\n",
      "\n",
      "\n"
     ]
    }
   ],
   "source": [
    "criterio_pd(intervalos,b,dev_p_b) # Intervalos, Variable independiente (V.I), Derivada"
   ]
  },
  {
   "cell_type": "markdown",
   "id": "2d952a10",
   "metadata": {},
   "source": [
    "<h3 style=\"color:#0999B4\"> Lo cual sígnica que hay un máximo en el punto crítico 165/2 =)</h3>  "
   ]
  },
  {
   "cell_type": "markdown",
   "id": "342b182a",
   "metadata": {},
   "source": [
    "<h2 style=\"color:#335BFF\"> Ahora con el criterio de la segunda derivada =)</h2>  "
   ]
  },
  {
   "cell_type": "code",
   "execution_count": 36,
   "id": "c6c92085",
   "metadata": {},
   "outputs": [],
   "source": [
    "def criterio_sd(pt_cri,var,s_dev):\n",
    "    '''\n",
    "    pt_cri = Puntos crìticos\n",
    "    var = Variable independiente\n",
    "    s_dev = segunda derivada\n",
    "    '''\n",
    "   \n",
    "    sdev_eva=sym.lambdify(var, s_dev) #Segunda derivada evaluar puntos crìticos\n",
    "\n",
    "    for value in pt_cri:\n",
    "        \n",
    "        try:\n",
    "            if sdev_eva(value) >0:\n",
    "                \n",
    "                print(' {} tiene signo positivo, hay un mìnimo'.format(value))\n",
    "            \n",
    "            elif sdev_eva(value)<0: \n",
    "                print(' {} tiene signo negativo hay un màximo'.format(value))\n",
    "            else:\n",
    "                print(' {} es igual a cero, usar criterio primera derivada'.format(value))\n",
    "        except Exception as error:\n",
    "            print('Cuidado indeterminación = ',error)\n"
   ]
  },
  {
   "cell_type": "code",
   "execution_count": 37,
   "id": "1443e01b",
   "metadata": {},
   "outputs": [
    {
     "name": "stdout",
     "output_type": "stream",
     "text": [
      "Help on function criterio_sd in module __main__:\n",
      "\n",
      "criterio_sd(pt_cri, var, s_dev)\n",
      "    pt_cri = Puntos crìticos\n",
      "    var = Variable independiente\n",
      "    s_dev = segunda derivada\n",
      "\n"
     ]
    }
   ],
   "source": [
    "help(criterio_sd)"
   ]
  },
  {
   "cell_type": "code",
   "execution_count": 38,
   "id": "0a29c3da",
   "metadata": {},
   "outputs": [
    {
     "name": "stdout",
     "output_type": "stream",
     "text": [
      " 165/2 tiene signo negativo hay un màximo\n"
     ]
    }
   ],
   "source": [
    "criterio_sd(pt_crit,b,dev_s_b) # Puntos crìticos, Variable independiente, Segunda derivada"
   ]
  },
  {
   "cell_type": "markdown",
   "id": "87fa2a6a",
   "metadata": {},
   "source": [
    "<h3 style=\"color:#0999B4\">Se llega exactamente a la misma respuesta con el criterio de la segunda derivada hay un máximo en 165/2 </h3>  "
   ]
  },
  {
   "cell_type": "markdown",
   "id": "4cec7727",
   "metadata": {},
   "source": [
    "<h2 style=\"color:#15CEC0\"> ¿Y la gráfica? =)</h2>  \n",
    "<h3 style=\"color:#D82813\"> Cuidado en sobrescribir las variables simbólicas</h3>  "
   ]
  },
  {
   "cell_type": "code",
   "execution_count": 39,
   "id": "9e831c1a",
   "metadata": {},
   "outputs": [],
   "source": [
    "b1 = np.linspace(-50, 200, 120) # Valores de la variable independiente (dominio)\n",
    "y1=sym.lambdify(b,expr_b) # Función original, representada simbólicamente"
   ]
  },
  {
   "cell_type": "code",
   "execution_count": 40,
   "id": "c726d066",
   "metadata": {},
   "outputs": [
    {
     "data": {
      "image/png": "[encoded data removed]",
      "text/plain": [
       "<Figure size 500x300 with 1 Axes>"
      ]
     },
     "metadata": {},
     "output_type": "display_data"
    }
   ],
   "source": [
    "fig, ax = plt.subplots(figsize = (5,3))\n",
    "\n",
    "ax.plot(b1, y1(b1),linewidth=2.1, c='orange', label=expr_b)\n",
    "\n",
    "# str() convierte el valor especificado en un string\n",
    "ax.scatter(pt_crit,y1(pt_crit[0]), c='red',s=72,label='Punto crítico = '+str(pt_crit)) \n",
    "\n",
    "ax.set_title('Hay un máximo global') # Añadir título\n",
    "ax.set_xlabel('Variable Independiente (V.I) =  b') # Añadir label eje de las abscisas\n",
    "ax.set_ylabel('Variable dependiente  (V.D) = F(b)') # Añadir label eje de las ordenadas\n",
    "ax.legend() # Para activar la etiqueta (label)\n",
    "\n",
    "plt.show()"
   ]
  },
  {
   "cell_type": "markdown",
   "id": "221ce55f",
   "metadata": {},
   "source": [
    "<h3 style=\"color:#0999B4\">Hallamos el máximo global de la función el cual nos da el valor de b que es una variable independiente</h3>  \n",
    "\n",
    "<h3 style=\"color:#10B8AB\">¿Nos faltaría hallar el  valor de h que es otra variable independiente?</h3>  "
   ]
  },
  {
   "cell_type": "code",
   "execution_count": 41,
   "id": "ee45caaa",
   "metadata": {},
   "outputs": [
    {
     "name": "stdout",
     "output_type": "stream",
     "text": [
      "El valor de h = 55.0000000000000 \n"
     ]
    }
   ],
   "source": [
    "valor_h= sym.lambdify(b,expr_h)\n",
    "print('El valor de h = {} '.format(valor_h(pt_crit[0])))"
   ]
  },
  {
   "cell_type": "markdown",
   "id": "013cf595",
   "metadata": {},
   "source": [
    "<h3 style=\"color:#1FC42B\">Nuevamente dese cuenta por favor del poder la optimización =)</h3>  "
   ]
  },
  {
   "cell_type": "code",
   "execution_count": 42,
   "id": "689486ca",
   "metadata": {},
   "outputs": [
    {
     "name": "stdout",
     "output_type": "stream",
     "text": [
      "Para que haya un área máxima b = 165/2 y h = 55.0000000000000\n"
     ]
    }
   ],
   "source": [
    "print('Para que haya un área máxima b = {} y h = {}'.format(pt_crit[0],valor_h(pt_crit[0])))"
   ]
  }
 ],
 "metadata": {
  "kernelspec": {
   "display_name": "Python 3 (ipykernel)",
   "language": "python",
   "name": "python3"
  },
  "language_info": {
   "codemirror_mode": {
    "name": "ipython",
    "version": 3
   },
   "file_extension": ".py",
   "mimetype": "text/x-python",
   "name": "python",
   "nbconvert_exporter": "python",
   "pygments_lexer": "ipython3",
   "version": "3.8.16"
  }
 },
 "nbformat": 4,
 "nbformat_minor": 5
}
