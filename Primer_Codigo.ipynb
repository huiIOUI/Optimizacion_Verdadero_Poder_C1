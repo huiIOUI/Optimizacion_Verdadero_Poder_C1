{
 "cells": [
  {
   "cell_type": "markdown",
   "id": "cc92a128",
   "metadata": {},
   "source": [
    "<h1 style=\"color:#0AA079\"> Bienvenidos a este poderoso curso de optimización =)</h1> \n",
    "\n",
    "![PICTURE](PIC_1.png)\n",
    "\n",
    "\n",
    "<center> <h3 style=\"color:#0AA079\"> Solo se requiere actitud y ganas de aprender</h3> </center> "
   ]
  },
  {
   "cell_type": "code",
   "execution_count": 1,
   "id": "a247fdee",
   "metadata": {
    "scrolled": true
   },
   "outputs": [
    {
     "name": "stdout",
     "output_type": "stream",
     "text": [
      "El poder esta en la optimización \n"
     ]
    }
   ],
   "source": [
    "print('El poder esta en la optimización ') # print('texto a visualizar') se usa para imprimir texto en la pantalla"
   ]
  }
 ],
 "metadata": {
  "kernelspec": {
   "display_name": "Python 3 (ipykernel)",
   "language": "python",
   "name": "python3"
  },
  "language_info": {
   "codemirror_mode": {
    "name": "ipython",
    "version": 3
   },
   "file_extension": ".py",
   "mimetype": "text/x-python",
   "name": "python",
   "nbconvert_exporter": "python",
   "pygments_lexer": "ipython3",
   "version": "3.8.16"
  }
 },
 "nbformat": 4,
 "nbformat_minor": 5
}
