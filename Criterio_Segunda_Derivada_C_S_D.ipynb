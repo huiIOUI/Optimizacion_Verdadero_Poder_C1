{
 "cells": [
  {
   "cell_type": "markdown",
   "id": "20be05ca",
   "metadata": {},
   "source": [
    "<h1 style=\"color:#0AA079\"> Bienvenidos a este poderoso curso de optimización =)</h1> \n",
    "\n",
    "![PICTURE](PIC_1.png)\n",
    "\n",
    "\n",
    "<center> <h3 style=\"color:#0AA079\"> Solo se requiere actitud y ganas de aprender</h3> </center> \n"
   ]
  },
  {
   "cell_type": "code",
   "execution_count": 1,
   "id": "d1118a4d",
   "metadata": {},
   "outputs": [],
   "source": [
    "import sympy as sym\n",
    "from IPython.display import display #Nos permite visualizar de una forma simbólica\n",
    "import numpy as np\n",
    "import matplotlib.pyplot as plt"
   ]
  },
  {
   "cell_type": "code",
   "execution_count": 2,
   "id": "0c6919ad",
   "metadata": {},
   "outputs": [],
   "source": [
    "plt.style.use('_mpl-gallery') # Añade estilo(cuadricula) a las gráficas 2D"
   ]
  },
  {
   "cell_type": "markdown",
   "id": "db749a64",
   "metadata": {},
   "source": [
    "<h2 style=\"color:#3498DB\"> Primera funciòn</h2>  \n",
    "$$F(x) = -((x-1.5)^2+0.2) $$"
   ]
  },
  {
   "cell_type": "code",
   "execution_count": 3,
   "id": "7ca73f2a",
   "metadata": {},
   "outputs": [
    {
     "data": {
      "text/latex": [
       "$\\displaystyle - 2.25 \\left(0.666666666666667 x - 1\\right)^{2} - 0.2$"
      ],
      "text/plain": [
       "-2.25*(0.666666666666667*x - 1)**2 - 0.2"
      ]
     },
     "metadata": {},
     "output_type": "display_data"
    }
   ],
   "source": [
    "x= sym.symbols('x',real=True)# .symbols(V.I) declaración variables independientes V.I\n",
    "expr_1=  -((x-1.5)**2+0.2)# representación simbólicamente\n",
    "display(expr_1)# visualización simbólica"
   ]
  },
  {
   "cell_type": "markdown",
   "id": "387364c7",
   "metadata": {},
   "source": [
    "<h2 style=\"color:#40C220\"> Primera Derivada</h2>  \n"
   ]
  },
  {
   "cell_type": "code",
   "execution_count": 4,
   "id": "c7c96307",
   "metadata": {},
   "outputs": [
    {
     "data": {
      "text/latex": [
       "$\\displaystyle 3.0 - 2.0 x$"
      ],
      "text/plain": [
       "3.0 - 2.0*x"
      ]
     },
     "metadata": {},
     "output_type": "display_data"
    }
   ],
   "source": [
    "p_dev1=sym.diff(expr_1,x,1) #.diff(expresión simbólica, variable, orden derivaciòn) método para derivar\n",
    "display(p_dev1)"
   ]
  },
  {
   "cell_type": "markdown",
   "id": "697bc3af",
   "metadata": {},
   "source": [
    "<h2 style=\"color:#40C220\"> Segunda Derivada</h2>  \n"
   ]
  },
  {
   "cell_type": "code",
   "execution_count": 5,
   "id": "f1fbefdc",
   "metadata": {},
   "outputs": [
    {
     "data": {
      "text/latex": [
       "$\\displaystyle -2.0$"
      ],
      "text/plain": [
       "-2.00000000000000"
      ]
     },
     "metadata": {},
     "output_type": "display_data"
    }
   ],
   "source": [
    "s_dev1=sym.diff(expr_1,x,2) #.diff(expresión simbólica, variable, orden derivaciòn) método para derivar\n",
    "display(s_dev1)"
   ]
  },
  {
   "cell_type": "markdown",
   "id": "a758665c",
   "metadata": {},
   "source": [
    "<h2 style=\"color:#F10F1C\"> Puntos crìticos</h2>  \n",
    "<h3>Un punto critico es donde la derivada es igual a acero o no existe (debido a una indeterminación).</h3>  "
   ]
  },
  {
   "cell_type": "code",
   "execution_count": 6,
   "id": "6cbf43ad",
   "metadata": {},
   "outputs": [
    {
     "name": "stdout",
     "output_type": "stream",
     "text": [
      "[1.50000000000000]\n"
     ]
    }
   ],
   "source": [
    "pt_crit1=sym.solve(p_dev1,x)# .solve(expresión simbólica, variable) método resolver ecuaciones (lineales y no lineales)\n",
    "print(pt_crit1)"
   ]
  },
  {
   "cell_type": "markdown",
   "id": "1d71f685",
   "metadata": {},
   "source": [
    "<h2 style=\"color:#F10F1C\"> Añadir Punto crìtico</h2>  \n",
    "\n",
    "No tiene indeterminaciones por lo tanto no hay que añadir..."
   ]
  },
  {
   "cell_type": "markdown",
   "id": "8df50622",
   "metadata": {},
   "source": [
    "<h2 style=\"color:#335BFF\"> Criterio segunda derivada</h2>  "
   ]
  },
  {
   "cell_type": "code",
   "execution_count": 7,
   "id": "be967827",
   "metadata": {},
   "outputs": [],
   "source": [
    "def criterio_sd(pt_cri,var,s_dev):# Puntos crìticos, variable independiente, segunda derivada\n",
    "   \n",
    "    sdev_eva=sym.lambdify(var, s_dev) #Segunda derivada evaluar puntos crìticos\n",
    "\n",
    "    for value in pt_cri:\n",
    "        \n",
    "        try:\n",
    "            if sdev_eva(value) >0:\n",
    "                \n",
    "                print(' {} tiene signo positivo, hay un mìnimo'.format(value))\n",
    "            \n",
    "            elif sdev_eva(value)<0: \n",
    "                print(' {} tiene signo negativo hay un màximo'.format(value))\n",
    "            else:\n",
    "                print(' {} es igual a cero, usar criterio primera derivada'.format(value))\n",
    "        except Exception as error:\n",
    "            print('Cuidado indeterminación = ',error)\n"
   ]
  },
  {
   "cell_type": "code",
   "execution_count": 8,
   "id": "2e4f7a0f",
   "metadata": {},
   "outputs": [
    {
     "name": "stdout",
     "output_type": "stream",
     "text": [
      " 1.50000000000000 tiene signo negativo hay un màximo\n"
     ]
    }
   ],
   "source": [
    "criterio_sd(pt_crit1,x,s_dev1) # Puntos crìticos, variable independiente, segunda derivada"
   ]
  },
  {
   "cell_type": "markdown",
   "id": "1d49202f",
   "metadata": {},
   "source": [
    "\n",
    "<h2 style=\"color:#15CEC0\"> ¿Y la gráfica? =)</h2>  \n",
    "<h3 style=\"color:#D82813\"> Cuidado en sobrescribir las variables simbólicas</h3>  "
   ]
  },
  {
   "cell_type": "code",
   "execution_count": 9,
   "id": "6fe40b28",
   "metadata": {},
   "outputs": [
    {
     "data": {
      "image/png": "[encoded data removed]",
      "text/plain": [
       "<Figure size 500x300 with 1 Axes>"
      ]
     },
     "metadata": {},
     "output_type": "display_data"
    }
   ],
   "source": [
    "# Generar valores dominio y rango\n",
    "x1 = np.linspace(-6, 9, 100)\n",
    "y1 = -((x1-1.5)**2+0.2)\n",
    "\n",
    "# Gràfica\n",
    "fig, ax = plt.subplots(figsize = (5,3))\n",
    "\n",
    "ax.plot(x1, y1,linewidth=2.1, c='orange', label='-((x1-1.5)**2+0.2)')\n",
    "\n",
    "ax.set_title('Tiene un máximo') # Añadir título\n",
    "ax.set_xlabel('Variable Independiente (V.I) =  x1') # Añadir label eje de las abscisas\n",
    "ax.set_ylabel('Variable dependiente  (V.D) = y1') # Añadir label eje de las ordenadas\n",
    "ax.legend() # Para activar la etiqueta (label)\n",
    "\n",
    "plt.show()"
   ]
  },
  {
   "cell_type": "markdown",
   "id": "ceeb394c",
   "metadata": {},
   "source": [
    "<h2 style=\"color:#3498DB\"> Segunda funciòn</h2>  \n",
    "$$F(y) = -3000/y -4y+620 $$"
   ]
  },
  {
   "cell_type": "code",
   "execution_count": 10,
   "id": "99b61355",
   "metadata": {},
   "outputs": [
    {
     "data": {
      "text/latex": [
       "$\\displaystyle - 4 y + 620 - \\frac{3000}{y}$"
      ],
      "text/plain": [
       "-4*y + 620 - 3000/y"
      ]
     },
     "metadata": {},
     "output_type": "display_data"
    }
   ],
   "source": [
    "y= sym.symbols('y',real=True)# .symbols(V.I) declaración variables independientes V.I\n",
    "expr_2= -3000/y -4*y +620 # representación simbólicamente\n",
    "display(expr_2)# visualización simbólica"
   ]
  },
  {
   "cell_type": "markdown",
   "id": "71958e26",
   "metadata": {},
   "source": [
    "<h2 style=\"color:#40C220\"> Primera Derivada</h2>  \n"
   ]
  },
  {
   "cell_type": "code",
   "execution_count": 11,
   "id": "8671690e",
   "metadata": {},
   "outputs": [
    {
     "data": {
      "text/latex": [
       "$\\displaystyle -4 + \\frac{3000}{y^{2}}$"
      ],
      "text/plain": [
       "-4 + 3000/y**2"
      ]
     },
     "metadata": {},
     "output_type": "display_data"
    }
   ],
   "source": [
    "pdev_2=sym.diff(expr_2,y,1) #.diff(expresión simbólica, variable, orden derivaciòn) método para derivar\n",
    "display(pdev_2)"
   ]
  },
  {
   "cell_type": "markdown",
   "id": "00e1e0b5",
   "metadata": {},
   "source": [
    "<h2 style=\"color:#40C220\"> Segunda Derivada</h2>  \n"
   ]
  },
  {
   "cell_type": "code",
   "execution_count": 12,
   "id": "69fd4935",
   "metadata": {},
   "outputs": [
    {
     "data": {
      "text/latex": [
       "$\\displaystyle - \\frac{6000}{y^{3}}$"
      ],
      "text/plain": [
       "-6000/y**3"
      ]
     },
     "metadata": {},
     "output_type": "display_data"
    }
   ],
   "source": [
    "sdev_2=sym.diff(expr_2,y,2) #.diff(expresión simbólica, variable, orden derivaciòn) método para derivar\n",
    "display(sdev_2)"
   ]
  },
  {
   "cell_type": "markdown",
   "id": "e7145b8b",
   "metadata": {},
   "source": [
    "<h2 style=\"color:#F10F1C\"> Puntos crìticos</h2>  \n",
    "<h3>Un punto critico es donde la derivada es igual a acero o no existe (debido a una indeterminación).</h3>  "
   ]
  },
  {
   "cell_type": "code",
   "execution_count": 13,
   "id": "bb80a853",
   "metadata": {},
   "outputs": [
    {
     "name": "stdout",
     "output_type": "stream",
     "text": [
      "[-5*sqrt(30), 5*sqrt(30)]\n"
     ]
    }
   ],
   "source": [
    "pt_crit2=sym.solve(pdev_2,y)# .solve(expresión simbólica, variable) método resolver ecuaciones (lineales y no lineales)\n",
    "print(pt_crit2)"
   ]
  },
  {
   "cell_type": "markdown",
   "id": "b7cc7016",
   "metadata": {},
   "source": [
    "<h2 style=\"color:#F10F1C\"> Añadir Punto crìtico</h2>  \n"
   ]
  },
  {
   "cell_type": "code",
   "execution_count": 14,
   "id": "3a4afd41",
   "metadata": {},
   "outputs": [
    {
     "name": "stdout",
     "output_type": "stream",
     "text": [
      "[-5*sqrt(30), 5*sqrt(30), 0]\n"
     ]
    }
   ],
   "source": [
    "pt_crit2.append(0) # Con .append(valor) añadimos un elemento màs a la lista\n",
    "print(pt_crit2)"
   ]
  },
  {
   "cell_type": "markdown",
   "id": "e0e89200",
   "metadata": {},
   "source": [
    "<h2 style=\"color:#335BFF\"> Criterio segunda derivada</h2>  "
   ]
  },
  {
   "cell_type": "code",
   "execution_count": 15,
   "id": "89f01e54",
   "metadata": {},
   "outputs": [
    {
     "name": "stdout",
     "output_type": "stream",
     "text": [
      " -5*sqrt(30) tiene signo positivo, hay un mìnimo\n",
      " 5*sqrt(30) tiene signo negativo hay un màximo\n",
      "Cuidado indeterminación =  division by zero\n"
     ]
    }
   ],
   "source": [
    "criterio_sd(pt_crit2,y,sdev_2) # Puntos crìticos, variable independiente, segunda derivada"
   ]
  },
  {
   "cell_type": "markdown",
   "id": "9751c855",
   "metadata": {},
   "source": [
    "<h2 style=\"color:#08DAD4\"> ¡ Aprendamos algo nuevo ! =)</h2>  \n"
   ]
  },
  {
   "cell_type": "code",
   "execution_count": 16,
   "id": "ee59753c",
   "metadata": {},
   "outputs": [
    {
     "name": "stdout",
     "output_type": "stream",
     "text": [
      "['Solarize_Light2', '_classic_test_patch', '_mpl-gallery', '_mpl-gallery-nogrid', 'bmh', 'classic', 'dark_background', 'fast', 'fivethirtyeight', 'ggplot', 'grayscale', 'seaborn-v0_8', 'seaborn-v0_8-bright', 'seaborn-v0_8-colorblind', 'seaborn-v0_8-dark', 'seaborn-v0_8-dark-palette', 'seaborn-v0_8-darkgrid', 'seaborn-v0_8-deep', 'seaborn-v0_8-muted', 'seaborn-v0_8-notebook', 'seaborn-v0_8-paper', 'seaborn-v0_8-pastel', 'seaborn-v0_8-poster', 'seaborn-v0_8-talk', 'seaborn-v0_8-ticks', 'seaborn-v0_8-white', 'seaborn-v0_8-whitegrid', 'tableau-colorblind10']\n"
     ]
    }
   ],
   "source": [
    "print(plt.style.available)"
   ]
  },
  {
   "cell_type": "code",
   "execution_count": 17,
   "id": "149cef42",
   "metadata": {},
   "outputs": [],
   "source": [
    "plt.style.use('dark_background')"
   ]
  },
  {
   "cell_type": "markdown",
   "id": "cccfaae3",
   "metadata": {},
   "source": [
    "<h2 style=\"color:#08DAD4\"> ¡ Y la gráfica ! =)</h2>  \n",
    "<h3 style=\"color:#D82813\"> Cuidado en sobrescribir las variables simbólicas</h3>  "
   ]
  },
  {
   "cell_type": "code",
   "execution_count": 18,
   "id": "8959b5f2",
   "metadata": {},
   "outputs": [
    {
     "name": "stderr",
     "output_type": "stream",
     "text": [
      "/tmp/ipykernel_12325/34767524.py:3: RuntimeWarning: divide by zero encountered in true_divide\n",
      "  m2 = (-3000/y2)-4*y2+620\n"
     ]
    },
    {
     "data": {
      "image/png": "[encoded data removed]",
      "text/plain": [
       "<Figure size 500x300 with 1 Axes>"
      ]
     },
     "metadata": {},
     "output_type": "display_data"
    }
   ],
   "source": [
    "# Generar valores dominio y rango\n",
    "y2 = np.arange(-500,500,1)\n",
    "m2 = (-3000/y2)-4*y2+620\n",
    "\n",
    "\n",
    "\n",
    "\n",
    "# Gràfica\n",
    "fig, ax = plt.subplots(figsize = (5,3))\n",
    "\n",
    "ax.plot(y2, m2,linewidth=3, c='green', label='(-3000/y2)-4*y2+620')\n",
    "\n",
    "ax.set_title('Hay un mìnimo y máximo') # Añadir título\n",
    "ax.set_xlabel('Variable Independiente (V.I) =  y2') # Añadir label eje de las abscisas\n",
    "ax.set_ylabel('Variable dependiente  (V.D) = m2') # Añadir label eje de las ordenadas\n",
    "ax.legend() # Para activar la etiqueta (label)\n",
    "\n",
    "plt.show()"
   ]
  }
 ],
 "metadata": {
  "kernelspec": {
   "display_name": "Python 3 (ipykernel)",
   "language": "python",
   "name": "python3"
  },
  "language_info": {
   "codemirror_mode": {
    "name": "ipython",
    "version": 3
   },
   "file_extension": ".py",
   "mimetype": "text/x-python",
   "name": "python",
   "nbconvert_exporter": "python",
   "pygments_lexer": "ipython3",
   "version": "3.8.16"
  }
 },
 "nbformat": 4,
 "nbformat_minor": 5
}
