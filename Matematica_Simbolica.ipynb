{
 "cells": [
  {
   "cell_type": "markdown",
   "id": "c11b7308",
   "metadata": {},
   "source": [
    "<h1 style=\"color:#0AA079\"> Bienvenidos a este poderoso curso de optimización =)</h1> \n",
    "\n",
    "![PICTURE](PIC_1.png)\n",
    "\n",
    "\n",
    "<center> <h3 style=\"color:#0AA079\"> Solo se requiere actitud y ganas de aprender</h3> </center> \n",
    "\n",
    "\n",
    "![PICTURE](PIC_4.png)\n",
    "    \n",
    "**Sympy:** SymPy es una biblioteca de Python para matemáticas simbólicas. Su objetivo es convertirse en un completo sistema de álgebra computacional (CAS), manteniendo el código lo más simple posible para que sea comprensible y fácilmente extensible. SymPy está escrito íntegramente en Python.\n",
    "    \n",
    "<center><h3><a href=\"https://www.sympy.org/en/index.html\">sympy.org</a></h3></center>\n",
    "    "
   ]
  },
  {
   "cell_type": "code",
   "execution_count": 1,
   "id": "2a5f192d",
   "metadata": {},
   "outputs": [],
   "source": [
    "import sympy as sym\n",
    "from IPython.display import display #Nos permite visualizar de una forma simbólica"
   ]
  },
  {
   "cell_type": "markdown",
   "id": "c7bf9f72",
   "metadata": {},
   "source": [
    "<h2 style=\"color:#3498DB\"> Primera funciòn</h2>  \n",
    "$$F(x) = x^2 + 2x+3 $$"
   ]
  },
  {
   "cell_type": "code",
   "execution_count": 2,
   "id": "2c9e23eb",
   "metadata": {},
   "outputs": [
    {
     "name": "stdout",
     "output_type": "stream",
     "text": [
      "x <class 'sympy.core.symbol.Symbol'>\n"
     ]
    }
   ],
   "source": [
    "x = sym.symbols('x',real=True) # .symbols(V.I) declaración variables independientes V.I\n",
    "print(x, type(x))"
   ]
  },
  {
   "cell_type": "code",
   "execution_count": 3,
   "id": "db8fd141",
   "metadata": {},
   "outputs": [
    {
     "name": "stdout",
     "output_type": "stream",
     "text": [
      "x**2 + 2*x + 3\n"
     ]
    },
    {
     "data": {
      "text/latex": [
       "$\\displaystyle x^{2} + 2 x + 3$"
      ],
      "text/plain": [
       "x**2 + 2*x + 3"
      ]
     },
     "metadata": {},
     "output_type": "display_data"
    }
   ],
   "source": [
    "# expr = Expresión\n",
    "expr_1=x**2+2*x+3 # representación simbólicamente\n",
    "print(expr_1)\n",
    "display(expr_1) # visualización simbólica"
   ]
  },
  {
   "cell_type": "markdown",
   "id": "3f8e6825",
   "metadata": {},
   "source": [
    "<h2 style=\"color:#3498DB\"> Evaluar funciòn</h2>  "
   ]
  },
  {
   "cell_type": "code",
   "execution_count": 4,
   "id": "a0a24824",
   "metadata": {},
   "outputs": [
    {
     "name": "stdout",
     "output_type": "stream",
     "text": [
      "6\n"
     ]
    }
   ],
   "source": [
    "# fun= Funciòn\n",
    "fun_1 = sym.lambdify(x, expr_1) # lambdify( V.I, expresión simbólica) evaluaciòn expresión simbólica\n",
    "print(fun_1(1))"
   ]
  },
  {
   "cell_type": "markdown",
   "id": "61e98f56",
   "metadata": {},
   "source": [
    "<h2 style=\"color:#3498DB\"> Segunda funciòn</h2>  \n",
    "\n",
    "$$F(y) = \\sqrt{y^3 - 9}$$"
   ]
  },
  {
   "cell_type": "code",
   "execution_count": 5,
   "id": "bb1df309",
   "metadata": {},
   "outputs": [
    {
     "data": {
      "text/latex": [
       "$\\displaystyle \\sqrt{y^{3} - 9}$"
      ],
      "text/plain": [
       "sqrt(y**3 - 9)"
      ]
     },
     "metadata": {},
     "output_type": "display_data"
    },
    {
     "name": "stdout",
     "output_type": "stream",
     "text": [
      "31.480152477394387\n"
     ]
    }
   ],
   "source": [
    "y = sym.symbols('y',real=True)  # .symbols(V.I) declaración variables independientes V.I\n",
    "expr_2=sym.sqrt(y**3-9) # # representación simbólicamente\n",
    "display(expr_2) # visualización simbólica\n",
    "\n",
    "fun_2 = sym.lambdify(y, expr_2)  # lambdify( V.I, expresión simbólica) evaluaciòn expresión simbólica\n",
    "print(fun_2(10))"
   ]
  },
  {
   "cell_type": "markdown",
   "id": "c5bbe59d",
   "metadata": {},
   "source": [
    "<h2 style=\"color:#3498DB\"> Tercera funciòn</h2>  \n",
    "\n",
    "$$Vc(r,h) = \\pi r^2 h$$"
   ]
  },
  {
   "cell_type": "code",
   "execution_count": 6,
   "id": "5d2e1c33",
   "metadata": {},
   "outputs": [
    {
     "data": {
      "text/latex": [
       "$\\displaystyle \\pi h r^{2}$"
      ],
      "text/plain": [
       "pi*h*r**2"
      ]
     },
     "metadata": {},
     "output_type": "display_data"
    },
    {
     "name": "stdout",
     "output_type": "stream",
     "text": [
      "226.1946710584651\n"
     ]
    }
   ],
   "source": [
    "r,h = sym.symbols('r,h',real=True)# .symbols(V.I) declaración variables independientes V.I\n",
    "expr_3=sym.pi*r**2*h # # representación simbólicamente\n",
    "display(expr_3) # visualización simbólica\n",
    "\n",
    "fun_3 = sym.lambdify([r,h], expr_3)  # lambdify( V.I, expresión simbólica) evaluaciòn expresión simbólica\n",
    "print(fun_3(6,2))"
   ]
  },
  {
   "cell_type": "markdown",
   "id": "d00518b6",
   "metadata": {},
   "source": [
    "<h1 style=\"color:#3498DB\"> Forma correcta de declarar simbólicamente</h1>  \n"
   ]
  },
  {
   "cell_type": "code",
   "execution_count": 7,
   "id": "e46198a3",
   "metadata": {},
   "outputs": [],
   "source": [
    "x,y,r,h = sym.symbols('x,y,r,h',real=True)"
   ]
  },
  {
   "cell_type": "markdown",
   "id": "9f7f28ad",
   "metadata": {},
   "source": [
    "<h1 style=\"color:#3498DB\"> Desafío =)</h1>  \n",
    "\n",
    "$$F(x) = \\tanh{( \\ln{ (e^x+1)})}$$"
   ]
  },
  {
   "cell_type": "markdown",
   "id": "71430d5f",
   "metadata": {},
   "source": [
    "<h2 style=\"color:#6EEAF9\"> Una pequeña ayuda =)</h2>  \n"
   ]
  },
  {
   "cell_type": "code",
   "execution_count": 8,
   "id": "c9485dd5",
   "metadata": {},
   "outputs": [],
   "source": [
    "x1 = sym.Symbol('x1', real = True)"
   ]
  },
  {
   "cell_type": "code",
   "execution_count": 9,
   "id": "4e46d780",
   "metadata": {},
   "outputs": [
    {
     "data": {
      "text/latex": [
       "$\\displaystyle e^{x_{1}}$"
      ],
      "text/plain": [
       "exp(x1)"
      ]
     },
     "metadata": {},
     "output_type": "display_data"
    }
   ],
   "source": [
    "display(sym.exp(x1)) # Funciòn exponencial"
   ]
  },
  {
   "cell_type": "code",
   "execution_count": 10,
   "id": "9aeed825",
   "metadata": {},
   "outputs": [
    {
     "data": {
      "text/latex": [
       "$\\displaystyle \\log{\\left(x_{1} \\right)}$"
      ],
      "text/plain": [
       "log(x1)"
      ]
     },
     "metadata": {},
     "output_type": "display_data"
    }
   ],
   "source": [
    "display(sym.ln(x1)) # Función logarítmica natural"
   ]
  },
  {
   "cell_type": "code",
   "execution_count": 11,
   "id": "b08eaf71",
   "metadata": {},
   "outputs": [
    {
     "data": {
      "text/latex": [
       "$\\displaystyle \\sin{\\left(x_{1} \\right)}$"
      ],
      "text/plain": [
       "sin(x1)"
      ]
     },
     "metadata": {},
     "output_type": "display_data"
    }
   ],
   "source": [
    "display(sym.sin(x1)) # Función trigonométrica"
   ]
  },
  {
   "cell_type": "markdown",
   "id": "609bcfc8",
   "metadata": {},
   "source": [
    "<h2 style=\"color:#D82813\"> Que no puedo hacer )= </h2>  "
   ]
  },
  {
   "cell_type": "code",
   "execution_count": 12,
   "id": "2355c5f2",
   "metadata": {},
   "outputs": [
    {
     "ename": "NameError",
     "evalue": "name 'exp' is not defined",
     "output_type": "error",
     "traceback": [
      "\u001b[0;31m---------------------------------------------------------------------------\u001b[0m",
      "\u001b[0;31mNameError\u001b[0m                                 Traceback (most recent call last)",
      "Cell \u001b[0;32mIn[12], line 1\u001b[0m\n\u001b[0;32m----> 1\u001b[0m display(\u001b[43mexp\u001b[49m(x1))\n",
      "\u001b[0;31mNameError\u001b[0m: name 'exp' is not defined"
     ]
    }
   ],
   "source": [
    "display(exp(x1)) # Funciòn exponencial"
   ]
  },
  {
   "cell_type": "code",
   "execution_count": 12,
   "id": "8edeb112",
   "metadata": {},
   "outputs": [
    {
     "ename": "NameError",
     "evalue": "name 'ln' is not defined",
     "output_type": "error",
     "traceback": [
      "\u001b[0;31m---------------------------------------------------------------------------\u001b[0m",
      "\u001b[0;31mNameError\u001b[0m                                 Traceback (most recent call last)",
      "Cell \u001b[0;32mIn[12], line 1\u001b[0m\n\u001b[0;32m----> 1\u001b[0m display(\u001b[43mln\u001b[49m(x1))\n",
      "\u001b[0;31mNameError\u001b[0m: name 'ln' is not defined"
     ]
    }
   ],
   "source": [
    "display(ln(x1)) # Función logarítmica natural"
   ]
  },
  {
   "cell_type": "code",
   "execution_count": 13,
   "id": "f45b25af",
   "metadata": {},
   "outputs": [
    {
     "ename": "NameError",
     "evalue": "name 'sin' is not defined",
     "output_type": "error",
     "traceback": [
      "\u001b[0;31m---------------------------------------------------------------------------\u001b[0m",
      "\u001b[0;31mNameError\u001b[0m                                 Traceback (most recent call last)",
      "Cell \u001b[0;32mIn[13], line 1\u001b[0m\n\u001b[0;32m----> 1\u001b[0m display(\u001b[43msin\u001b[49m(x1))\n",
      "\u001b[0;31mNameError\u001b[0m: name 'sin' is not defined"
     ]
    }
   ],
   "source": [
    "display(sin(x1)) # Función trigonométrica"
   ]
  }
 ],
 "metadata": {
  "kernelspec": {
   "display_name": "Python 3 (ipykernel)",
   "language": "python",
   "name": "python3"
  },
  "language_info": {
   "codemirror_mode": {
    "name": "ipython",
    "version": 3
   },
   "file_extension": ".py",
   "mimetype": "text/x-python",
   "name": "python",
   "nbconvert_exporter": "python",
   "pygments_lexer": "ipython3",
   "version": "3.8.16"
  }
 },
 "nbformat": 4,
 "nbformat_minor": 5
}
