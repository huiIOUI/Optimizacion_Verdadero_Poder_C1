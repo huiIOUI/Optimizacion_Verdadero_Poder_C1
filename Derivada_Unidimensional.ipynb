{
 "cells": [
  {
   "cell_type": "markdown",
   "id": "244105c7",
   "metadata": {},
   "source": [
    "<h1 style=\"color:#0AA079\"> Bienvenidos a este poderoso curso de optimización =)</h1> \n",
    "\n",
    "![PICTURE](PIC_1.png)\n",
    "\n",
    "\n",
    "<center> <h3 style=\"color:#0AA079\"> Solo se requiere actitud y ganas de aprender</h3> </center> \n"
   ]
  },
  {
   "cell_type": "code",
   "execution_count": 1,
   "id": "40c86e7d",
   "metadata": {},
   "outputs": [],
   "source": [
    "import sympy as sym\n",
    "from IPython.display import display #Nos permite visualizar de una forma simbólica\n",
    "import numpy as np\n",
    "import matplotlib.pyplot as plt"
   ]
  },
  {
   "cell_type": "markdown",
   "id": "0c25dd78",
   "metadata": {},
   "source": [
    "<h2 style=\"color:#3498DB\"> Primera funciòn</h2>  \n",
    "$$F(x) = x^2 + 2x+3 $$"
   ]
  },
  {
   "cell_type": "code",
   "execution_count": 2,
   "id": "628a7669",
   "metadata": {},
   "outputs": [
    {
     "data": {
      "text/latex": [
       "$\\displaystyle x^{2} + 2 x + 3$"
      ],
      "text/plain": [
       "x**2 + 2*x + 3"
      ]
     },
     "metadata": {},
     "output_type": "display_data"
    }
   ],
   "source": [
    "x= sym.symbols('x',real=True) # .symbols(V.I) declaración variables independientes V.I\n",
    "expr_1=x**2+2*x+3 # representación simbólicamente\n",
    "display(expr_1) # visualización simbólica"
   ]
  },
  {
   "cell_type": "markdown",
   "id": "cd12e8a5",
   "metadata": {},
   "source": [
    "<h2 style=\"color:#7FA00A\"> Derivada</h2>  \n",
    "$$ \\dfrac{df}{dx} $$"
   ]
  },
  {
   "cell_type": "code",
   "execution_count": 3,
   "id": "7ee3b9ea",
   "metadata": {},
   "outputs": [
    {
     "data": {
      "text/latex": [
       "$\\displaystyle 2 x + 2$"
      ],
      "text/plain": [
       "2*x + 2"
      ]
     },
     "metadata": {},
     "output_type": "display_data"
    }
   ],
   "source": [
    "# dev= Derivada\n",
    "dev_1=sym.diff(expr_1,x) # .diff(expresión simbólica, variable) método para derivar\n",
    "display(dev_1)"
   ]
  },
  {
   "cell_type": "markdown",
   "id": "fa70f021",
   "metadata": {},
   "source": [
    "<h2 style=\"color:#7FA00A\"> Evaluar derivada</h2>  \n",
    "\n",
    "$$ \\dfrac{df}{dx}\\Bigg|_{x=30} $$"
   ]
  },
  {
   "cell_type": "code",
   "execution_count": 4,
   "id": "389a5799",
   "metadata": {},
   "outputs": [
    {
     "name": "stdout",
     "output_type": "stream",
     "text": [
      "62\n"
     ]
    }
   ],
   "source": [
    "dev_ev1=sym.lambdify(x, dev_1)# lambdify( V.I, expresión simbólica) evaluaciòn expresión simbólica\n",
    "print(dev_ev1(30))"
   ]
  },
  {
   "cell_type": "markdown",
   "id": "b4959b9d",
   "metadata": {},
   "source": [
    "<h2 style=\"color:#A533FF\"> Derivadas de orden superior</h2>  \n",
    "$$ \\dfrac{d^2f}{dx^2} $$"
   ]
  },
  {
   "cell_type": "code",
   "execution_count": 5,
   "id": "e848dc8d",
   "metadata": {},
   "outputs": [
    {
     "data": {
      "text/latex": [
       "$\\displaystyle 2$"
      ],
      "text/plain": [
       "2"
      ]
     },
     "metadata": {},
     "output_type": "display_data"
    }
   ],
   "source": [
    "s_dev1=sym.diff(expr_1,x,2) #.diff(expresión simbólica, variable, orden derivaciòn) método para derivar\n",
    "display(s_dev1)"
   ]
  },
  {
   "cell_type": "markdown",
   "id": "9c0cd031",
   "metadata": {},
   "source": [
    "$$ \\dfrac{d^3f}{dx^3} $$"
   ]
  },
  {
   "cell_type": "code",
   "execution_count": 6,
   "id": "bc6ef214",
   "metadata": {},
   "outputs": [
    {
     "data": {
      "text/latex": [
       "$\\displaystyle 0$"
      ],
      "text/plain": [
       "0"
      ]
     },
     "metadata": {},
     "output_type": "display_data"
    }
   ],
   "source": [
    "t_dev1=sym.diff(expr_1,x,3) #.diff(expresión simbólica, variable, orden derivaciòn) método para derivar\n",
    "display(t_dev1)"
   ]
  },
  {
   "cell_type": "markdown",
   "id": "d2b6202e",
   "metadata": {},
   "source": [
    "<h2 style=\"color:#3498DB\"> Segunda funciòn</h2>  \n",
    "\n",
    "$$F(y) = \\sqrt{y^3 - 9}$$"
   ]
  },
  {
   "cell_type": "code",
   "execution_count": 7,
   "id": "74979af7",
   "metadata": {},
   "outputs": [
    {
     "data": {
      "text/latex": [
       "$\\displaystyle \\sqrt{y^{3} - 9}$"
      ],
      "text/plain": [
       "sqrt(y**3 - 9)"
      ]
     },
     "metadata": {},
     "output_type": "display_data"
    }
   ],
   "source": [
    "y = sym.symbols('y',real=True) # .symbols(V.I) declaración variables independientes V.I\n",
    "expr_2=sym.sqrt(y**3-9)# representación simbólicamente\n",
    "display(expr_2) # visualización simbólica"
   ]
  },
  {
   "cell_type": "markdown",
   "id": "36ef70b4",
   "metadata": {},
   "source": [
    "<h2 style=\"color:#7FA00A\"> Derivada</h2>  \n",
    "$$ \\dfrac{df}{dy} $$"
   ]
  },
  {
   "cell_type": "code",
   "execution_count": 8,
   "id": "41968c09",
   "metadata": {},
   "outputs": [
    {
     "data": {
      "text/latex": [
       "$\\displaystyle \\frac{3 y^{2}}{2 \\sqrt{y^{3} - 9}}$"
      ],
      "text/plain": [
       "3*y**2/(2*sqrt(y**3 - 9))"
      ]
     },
     "metadata": {},
     "output_type": "display_data"
    }
   ],
   "source": [
    "dev_2=sym.diff(expr_2,y) # .diff(expresión simbólica, variable) método para derivar\n",
    "display(dev_2)"
   ]
  },
  {
   "cell_type": "markdown",
   "id": "f313ba9c",
   "metadata": {},
   "source": [
    "<h2 style=\"color:#7FA00A\"> Evaluar derivada</h2>  \n",
    "$$ \\dfrac{df}{dy}\\Bigg|_{y=30} $$"
   ]
  },
  {
   "cell_type": "code",
   "execution_count": 9,
   "id": "bce41579",
   "metadata": {},
   "outputs": [
    {
     "name": "stdout",
     "output_type": "stream",
     "text": [
      "8.217208011392971\n"
     ]
    }
   ],
   "source": [
    "dev_ev2=sym.lambdify(y, dev_2) # lambdify( V.I, expresión simbólica) evaluaciòn expresión simbólica\n",
    "print(dev_ev2(30))"
   ]
  },
  {
   "cell_type": "markdown",
   "id": "b02253a4",
   "metadata": {},
   "source": [
    "<h2 style=\"color:#A533FF\"> Derivadas de orden superior</h2>  \n"
   ]
  },
  {
   "cell_type": "markdown",
   "id": "8fd84d7f",
   "metadata": {},
   "source": [
    "$$ \\dfrac{d^2f}{dx^2} $$"
   ]
  },
  {
   "cell_type": "code",
   "execution_count": 10,
   "id": "0a250bff",
   "metadata": {},
   "outputs": [
    {
     "data": {
      "text/latex": [
       "$\\displaystyle \\frac{3 y \\left(- \\frac{3 y^{3}}{4 \\left(y^{3} - 9\\right)} + 1\\right)}{\\sqrt{y^{3} - 9}}$"
      ],
      "text/plain": [
       "3*y*(-3*y**3/(4*(y**3 - 9)) + 1)/sqrt(y**3 - 9)"
      ]
     },
     "metadata": {},
     "output_type": "display_data"
    }
   ],
   "source": [
    "s_dev2=sym.diff(expr_2,y,2) #.diff(expresión simbólica, variable, orden derivaciòn) método para derivar\n",
    "display(s_dev2)"
   ]
  },
  {
   "cell_type": "markdown",
   "id": "06355699",
   "metadata": {},
   "source": [
    "$$ \\dfrac{d^3f}{dy^3} $$"
   ]
  },
  {
   "cell_type": "code",
   "execution_count": 11,
   "id": "b389d73f",
   "metadata": {},
   "outputs": [
    {
     "data": {
      "text/latex": [
       "$\\displaystyle \\frac{3 \\cdot \\left(\\frac{27 y^{6}}{8 \\left(y^{3} - 9\\right)^{2}} - \\frac{9 y^{3}}{2 \\left(y^{3} - 9\\right)} + 1\\right)}{\\sqrt{y^{3} - 9}}$"
      ],
      "text/plain": [
       "3*(27*y**6/(8*(y**3 - 9)**2) - 9*y**3/(2*(y**3 - 9)) + 1)/sqrt(y**3 - 9)"
      ]
     },
     "metadata": {},
     "output_type": "display_data"
    }
   ],
   "source": [
    "t_dev2=sym.diff(expr_2,y,3) #.diff(expresión simbólica, variable, orden derivaciòn) método para derivar\n",
    "display(t_dev2)"
   ]
  }
 ],
 "metadata": {
  "kernelspec": {
   "display_name": "Python 3 (ipykernel)",
   "language": "python",
   "name": "python3"
  },
  "language_info": {
   "codemirror_mode": {
    "name": "ipython",
    "version": 3
   },
   "file_extension": ".py",
   "mimetype": "text/x-python",
   "name": "python",
   "nbconvert_exporter": "python",
   "pygments_lexer": "ipython3",
   "version": "3.8.16"
  }
 },
 "nbformat": 4,
 "nbformat_minor": 5
}
