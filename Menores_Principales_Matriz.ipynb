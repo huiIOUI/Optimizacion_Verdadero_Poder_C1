{
 "cells": [
  {
   "cell_type": "markdown",
   "id": "4a82ae51",
   "metadata": {},
   "source": [
    "<h1 style=\"color:#0AA079\"> Bienvenidos a este poderoso curso de optimización =)</h1> \n",
    "\n",
    "![PICTURE](PIC_1.png)\n",
    "\n",
    "\n",
    "<center> <h3 style=\"color:#0AA079\"> Solo se requiere actitud y ganas de aprender</h3> </center> \n"
   ]
  },
  {
   "cell_type": "code",
   "execution_count": 1,
   "id": "aa671d4c",
   "metadata": {},
   "outputs": [],
   "source": [
    "import sympy as sym\n",
    "from IPython.display import display #Nos permite visualizar de una forma simbólica"
   ]
  },
  {
   "cell_type": "markdown",
   "id": "99a1ffa3",
   "metadata": {},
   "source": [
    "<h2 style=\"color:#3498DB\"> Menores principales de una matriz</h2>  \n",
    "\n",
    "$$F(x,y) = x^2-4xy+y^3+4y$$"
   ]
  },
  {
   "cell_type": "markdown",
   "id": "0d42aacd",
   "metadata": {},
   "source": [
    "<h2 style=\"color:#7FA00A\"> Representación simbólica</h2>   \n"
   ]
  },
  {
   "cell_type": "code",
   "execution_count": 2,
   "id": "4b9a4439",
   "metadata": {},
   "outputs": [
    {
     "data": {
      "text/latex": [
       "$\\displaystyle x^{2} - 4 x y + y^{3} + 4 y$"
      ],
      "text/plain": [
       "x**2 - 4*x*y + y**3 + 4*y"
      ]
     },
     "metadata": {},
     "output_type": "display_data"
    }
   ],
   "source": [
    "x,y = sym.symbols('x,y',real=True)\n",
    "expr_1= x**2-4*x*y+y**3+4*y # representación simbólicamente\n",
    "display(expr_1) # visualización simbólica"
   ]
  },
  {
   "cell_type": "markdown",
   "id": "36f66eb7",
   "metadata": {},
   "source": [
    "<h2 style=\"color:#7FA00A\"> Primeras derivadas parciales</h2>  \n",
    "$$ \\frac{\\partial{f}}{\\partial{x}} $$"
   ]
  },
  {
   "cell_type": "code",
   "execution_count": 3,
   "id": "fc32a918",
   "metadata": {},
   "outputs": [
    {
     "data": {
      "text/latex": [
       "$\\displaystyle 2 x - 4 y$"
      ],
      "text/plain": [
       "2*x - 4*y"
      ]
     },
     "metadata": {},
     "output_type": "display_data"
    }
   ],
   "source": [
    "deb_x = sym.diff(expr_1,x)\n",
    "display(deb_x)"
   ]
  },
  {
   "cell_type": "markdown",
   "id": "73dc4fec",
   "metadata": {},
   "source": [
    "$$ \\frac{\\partial{f}}{\\partial{y}} $$"
   ]
  },
  {
   "cell_type": "code",
   "execution_count": 4,
   "id": "632a9e82",
   "metadata": {},
   "outputs": [
    {
     "data": {
      "text/latex": [
       "$\\displaystyle - 4 x + 3 y^{2} + 4$"
      ],
      "text/plain": [
       "-4*x + 3*y**2 + 4"
      ]
     },
     "metadata": {},
     "output_type": "display_data"
    }
   ],
   "source": [
    "deb_y = sym.diff(expr_1,y)\n",
    "display(deb_y)"
   ]
  },
  {
   "cell_type": "markdown",
   "id": "6cbceb41",
   "metadata": {},
   "source": [
    "<h2 style=\"color:#F10F1C\"> Puntos crìticos</h2>  \n",
    "<h3>Un punto critico es donde la derivada es igual a acero o no existe (debido a una indeterminación).</h3>  "
   ]
  },
  {
   "cell_type": "code",
   "execution_count": 5,
   "id": "14f8d53a",
   "metadata": {},
   "outputs": [
    {
     "name": "stdout",
     "output_type": "stream",
     "text": [
      "[(4/3, 2/3), (4, 2)]\n"
     ]
    }
   ],
   "source": [
    "pt_crit=sym.solve([deb_x,deb_y],(x,y))# .solve(expresión simbólica, variable) método resolver ecuaciones (lineales y no lineales)\n",
    "print(pt_crit)"
   ]
  },
  {
   "cell_type": "markdown",
   "id": "8581f8c0",
   "metadata": {},
   "source": [
    "<h2 style=\"color:#7FA00A\"> No hay ninguna indeterminación</h2>  "
   ]
  },
  {
   "cell_type": "code",
   "execution_count": 6,
   "id": "cfb49513",
   "metadata": {},
   "outputs": [
    {
     "name": "stdout",
     "output_type": "stream",
     "text": [
      "Los puntos críticos de la función son :  [(4/3, 2/3), (4, 2)]\n"
     ]
    }
   ],
   "source": [
    "# Si hubiera indeterminaciones conocemos como agregarlas con.append()\n",
    "print('Los puntos críticos de la función son : ',pt_crit )"
   ]
  },
  {
   "cell_type": "markdown",
   "id": "51fa2fd8",
   "metadata": {},
   "source": [
    "<h2 style=\"color:#7FA00A\"> Poderosa matriz Hessiana</h2>  \n",
    "\n",
    "![PICTURE](PIC_5.png)\n"
   ]
  },
  {
   "cell_type": "code",
   "execution_count": 7,
   "id": "71be2a5b",
   "metadata": {},
   "outputs": [],
   "source": [
    "mat_h=sym.Matrix([[sym.diff(expr_1,x,2), sym.diff(expr_1,y,x)], [sym.diff(expr_1,x,y), sym.diff(expr_1,y,2)]]) #cada [] es una fila "
   ]
  },
  {
   "cell_type": "code",
   "execution_count": 8,
   "id": "4d894459",
   "metadata": {},
   "outputs": [
    {
     "data": {
      "text/latex": [
       "$\\displaystyle \\left[\\begin{matrix}2 & -4\\\\-4 & 6 y\\end{matrix}\\right]$"
      ],
      "text/plain": [
       "Matrix([\n",
       "[ 2,  -4],\n",
       "[-4, 6*y]])"
      ]
     },
     "metadata": {},
     "output_type": "display_data"
    }
   ],
   "source": [
    "display(mat_h)"
   ]
  },
  {
   "cell_type": "markdown",
   "id": "7f8f8989",
   "metadata": {},
   "source": [
    "<h2 style=\"color:#7FA00A\"> Dimensiones de la matriz </h2>  \n"
   ]
  },
  {
   "cell_type": "code",
   "execution_count": 9,
   "id": "e5f02d53",
   "metadata": {},
   "outputs": [
    {
     "data": {
      "text/plain": [
       "(2, 2)"
      ]
     },
     "execution_count": 9,
     "metadata": {},
     "output_type": "execute_result"
    }
   ],
   "source": [
    "mat_h.shape"
   ]
  },
  {
   "cell_type": "markdown",
   "id": "cda2c119",
   "metadata": {},
   "source": [
    "<h2 style=\"color:#7FA00A\"> Menores principales de la matriz </h2>  \n"
   ]
  },
  {
   "cell_type": "code",
   "execution_count": 10,
   "id": "d87d6390",
   "metadata": {},
   "outputs": [],
   "source": [
    "def menores_pm(mat,p_c):\n",
    "    '''\n",
    "    mat = Matriz\n",
    "    p_c = Puntos críticos\n",
    "    '''\n",
    "    #m_d = matriz dimensión\n",
    "    m_d=mat.shape[0]\n",
    "    \n",
    "    #m_p = menores principales\n",
    "    m_p={}\n",
    "      \n",
    "    for pc_v in p_c:\n",
    "        #dets = determinantes\n",
    "        dets=[]\n",
    "        \n",
    "        for x1 in range(1,m_d+1):\n",
    "            \n",
    "            menores_prin=mat_h[:x1,:x1].subs([(x,pc_v[0]),(y,pc_v[1])]).det() #.det() determinante                 \n",
    "            dets.append(menores_prin)\n",
    "            \n",
    "            \n",
    "        print('\\nDeterminantes de los menores principales {} de la matriz'.format(dets))\n",
    "        \n",
    "        if all(d_v >0 for d_v in dets):\n",
    "            print('Matriz positiva, en el punto crítico {} hay un máximo'.format(pc_v))\n",
    "            \n",
    "        elif all(d_v <0 for d_v in dets[0::2]) and all(d_v>0 for d_v in dets[1::2]):\n",
    "            print('Matriz negativa, en el punto crítico {} hay un, mínimo'.format(pc_v))\n",
    "            \n",
    "        else:\n",
    "            print('En el punto crítico {} no hay ni un mínimo o máximo =('.format(pc_v))\n",
    "        \n",
    "        m_p[pc_v]=dets\n",
    "        \n",
    "    return m_p "
   ]
  },
  {
   "cell_type": "code",
   "execution_count": 11,
   "id": "2c2c1051",
   "metadata": {},
   "outputs": [
    {
     "name": "stdout",
     "output_type": "stream",
     "text": [
      "\n",
      "Determinantes de los menores principales [2, -8] de la matriz\n",
      "En el punto crítico (4/3, 2/3) no hay ni un mínimo o máximo =(\n",
      "\n",
      "Determinantes de los menores principales [2, 8] de la matriz\n",
      "Matriz positiva, en el punto crítico (4, 2) hay un máximo\n"
     ]
    },
    {
     "data": {
      "text/plain": [
       "{(4/3, 2/3): [2, -8], (4, 2): [2, 8]}"
      ]
     },
     "execution_count": 11,
     "metadata": {},
     "output_type": "execute_result"
    }
   ],
   "source": [
    "menores_pm(mat_h,pt_crit)"
   ]
  },
  {
   "cell_type": "markdown",
   "id": "cdc7aa75",
   "metadata": {},
   "source": [
    "<h2 style=\"color:#7FA00A\"> Mejorando el código</h2>  "
   ]
  },
  {
   "cell_type": "code",
   "execution_count": 12,
   "id": "19d516dd",
   "metadata": {},
   "outputs": [],
   "source": [
    "def mp_i(dets):\n",
    "        \n",
    "    if all(d_v >0 for d_v in dets):\n",
    "        return 'Positiva'\n",
    "    \n",
    "    elif  all(d_v <0 for d_v in dets[0::2]) and all(d_v>0 for d_v in dets[1::2]):\n",
    "        return 'Negativa' \n",
    "        \n",
    "    \n",
    "    "
   ]
  },
  {
   "cell_type": "code",
   "execution_count": 13,
   "id": "99ed37a8",
   "metadata": {},
   "outputs": [],
   "source": [
    "def menores_pm(mat,p_c):\n",
    "    '''\n",
    "    mat = Matriz\n",
    "    p_c = Puntos críticos\n",
    "    '''\n",
    "    #m_d = matriz dimensión\n",
    "    m_d=mat.shape[0]\n",
    "    \n",
    "    #m_p = menores principales\n",
    "    m_p={}\n",
    "      \n",
    "    for pc_v in p_c:\n",
    "        #dets = determinantes\n",
    "        dets=[]\n",
    "        \n",
    "        for x1 in range(1,m_d+1):\n",
    "            \n",
    "            menores_prin=mat_h[:x1,:x1].subs([(x,pc_v[0]),(y,pc_v[1])]).det() #.det() determinante                 \n",
    "            dets.append(menores_prin)\n",
    "            \n",
    "            \n",
    "        print('\\nDeterminantes de los menores principales {} de la matriz'.format(dets))\n",
    "        \n",
    "        if mp_i(dets)=='Positiva':\n",
    "            print('Matriz positiva, en el punto crítico {} hay un máximo'.format(pc_v))\n",
    "            \n",
    "        elif mp_i(dets)=='Negativa':\n",
    "            print('Matriz negativa, en el punto crítico {} hay un, mínimo'.format(pc_v))\n",
    "            \n",
    "        else:\n",
    "            print('En el punto crítico {} no hay ni un mínimo o máximo =('.format(pc_v))\n",
    "        \n",
    "        m_p[pc_v]=dets\n",
    "        \n",
    "    return m_p "
   ]
  },
  {
   "cell_type": "code",
   "execution_count": 14,
   "id": "c0b0bf6d",
   "metadata": {},
   "outputs": [
    {
     "name": "stdout",
     "output_type": "stream",
     "text": [
      "\n",
      "Determinantes de los menores principales [2, -8] de la matriz\n",
      "En el punto crítico (4/3, 2/3) no hay ni un mínimo o máximo =(\n",
      "\n",
      "Determinantes de los menores principales [2, 8] de la matriz\n",
      "Matriz positiva, en el punto crítico (4, 2) hay un máximo\n"
     ]
    },
    {
     "data": {
      "text/plain": [
       "{(4/3, 2/3): [2, -8], (4, 2): [2, 8]}"
      ]
     },
     "execution_count": 14,
     "metadata": {},
     "output_type": "execute_result"
    }
   ],
   "source": [
    "menores_pm(mat_h,pt_crit)"
   ]
  }
 ],
 "metadata": {
  "kernelspec": {
   "display_name": "Python 3 (ipykernel)",
   "language": "python",
   "name": "python3"
  },
  "language_info": {
   "codemirror_mode": {
    "name": "ipython",
    "version": 3
   },
   "file_extension": ".py",
   "mimetype": "text/x-python",
   "name": "python",
   "nbconvert_exporter": "python",
   "pygments_lexer": "ipython3",
   "version": "3.8.16"
  }
 },
 "nbformat": 4,
 "nbformat_minor": 5
}
